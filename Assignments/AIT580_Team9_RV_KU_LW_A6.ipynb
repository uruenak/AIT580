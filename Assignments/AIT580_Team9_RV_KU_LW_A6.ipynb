{
 "cells": [
  {
   "cell_type": "code",
   "execution_count": 3,
   "metadata": {},
   "outputs": [],
   "source": [
    "employeeData <- read.csv('C:/Users/Kevin Uruena/Desktop/AIT580/EmployeeAttrition.csv')"
   ]
  },
  {
   "cell_type": "code",
   "execution_count": 4,
   "metadata": {},
   "outputs": [
    {
     "data": {
      "text/html": [
       "<table>\n",
       "<thead><tr><th scope=col>Age</th><th scope=col>Attrition</th><th scope=col>BusinessTravel</th><th scope=col>DailyRate</th><th scope=col>Department</th><th scope=col>DistanceFromHome</th><th scope=col>Education</th><th scope=col>EducationField</th><th scope=col>EmployeeCount</th><th scope=col>EmployeeNumber</th><th scope=col>...</th><th scope=col>RelationshipSatisfaction</th><th scope=col>StandardHours</th><th scope=col>StockOptionLevel</th><th scope=col>TotalWorkingYears</th><th scope=col>TrainingTimesLastYear</th><th scope=col>WorkLifeBalance</th><th scope=col>YearsAtCompany</th><th scope=col>YearsInCurrentRole</th><th scope=col>YearsSinceLastPromotion</th><th scope=col>YearsWithCurrManager</th></tr></thead>\n",
       "<tbody>\n",
       "\t<tr><td>41                    </td><td>Yes                   </td><td>Travel_Rarely         </td><td>1102                  </td><td>Sales                 </td><td>1                     </td><td>2                     </td><td>Life Sciences         </td><td>1                     </td><td>1                     </td><td>...                   </td><td>1                     </td><td>80                    </td><td>0                     </td><td> 8                    </td><td>0                     </td><td>1                     </td><td> 6                    </td><td>4                     </td><td>0                     </td><td>5                     </td></tr>\n",
       "\t<tr><td>49                        </td><td>No                        </td><td>Travel_Frequently         </td><td> 279                      </td><td>Research &amp; Development</td><td>8                         </td><td>1                         </td><td>Life Sciences             </td><td>1                         </td><td>2                         </td><td>...                       </td><td>4                         </td><td>80                        </td><td>1                         </td><td>10                        </td><td>3                         </td><td>3                         </td><td>10                        </td><td>7                         </td><td>1                         </td><td>7                         </td></tr>\n",
       "\t<tr><td>37                                                       </td><td>Yes                                                      </td><td><span style=white-space:pre-wrap>Travel_Rarely    </span></td><td>1373                                                     </td><td>Research &amp; Development                               </td><td>2                                                        </td><td>2                                                        </td><td><span style=white-space:pre-wrap>Other        </span>    </td><td>1                                                        </td><td>4                                                        </td><td>...                                                      </td><td>2                                                        </td><td>80                                                       </td><td>0                                                        </td><td> 7                                                       </td><td>3                                                        </td><td>3                                                        </td><td> 0                                                       </td><td>0                                                        </td><td>0                                                        </td><td>0                                                        </td></tr>\n",
       "\t<tr><td>33                        </td><td>No                        </td><td>Travel_Frequently         </td><td>1392                      </td><td>Research &amp; Development</td><td>3                         </td><td>4                         </td><td>Life Sciences             </td><td>1                         </td><td>5                         </td><td>...                       </td><td>3                         </td><td>80                        </td><td>0                         </td><td> 8                        </td><td>3                         </td><td>3                         </td><td> 8                        </td><td>7                         </td><td>3                         </td><td>0                         </td></tr>\n",
       "\t<tr><td>27                                                       </td><td>No                                                       </td><td><span style=white-space:pre-wrap>Travel_Rarely    </span></td><td> 591                                                     </td><td>Research &amp; Development                               </td><td>2                                                        </td><td>1                                                        </td><td><span style=white-space:pre-wrap>Medical      </span>    </td><td>1                                                        </td><td>7                                                        </td><td>...                                                      </td><td>4                                                        </td><td>80                                                       </td><td>1                                                        </td><td> 6                                                       </td><td>3                                                        </td><td>3                                                        </td><td> 2                                                       </td><td>2                                                        </td><td>2                                                        </td><td>2                                                        </td></tr>\n",
       "\t<tr><td>32                        </td><td>No                        </td><td>Travel_Frequently         </td><td>1005                      </td><td>Research &amp; Development</td><td>2                         </td><td>2                         </td><td>Life Sciences             </td><td>1                         </td><td>8                         </td><td>...                       </td><td>3                         </td><td>80                        </td><td>0                         </td><td> 8                        </td><td>2                         </td><td>2                         </td><td> 7                        </td><td>7                         </td><td>3                         </td><td>6                         </td></tr>\n",
       "</tbody>\n",
       "</table>\n"
      ],
      "text/latex": [
       "\\begin{tabular}{r|lllllllllllllllllllllllllllllllllll}\n",
       " Age & Attrition & BusinessTravel & DailyRate & Department & DistanceFromHome & Education & EducationField & EmployeeCount & EmployeeNumber & ... & RelationshipSatisfaction & StandardHours & StockOptionLevel & TotalWorkingYears & TrainingTimesLastYear & WorkLifeBalance & YearsAtCompany & YearsInCurrentRole & YearsSinceLastPromotion & YearsWithCurrManager\\\\\n",
       "\\hline\n",
       "\t 41                     & Yes                    & Travel\\_Rarely        & 1102                   & Sales                  & 1                      & 2                      & Life Sciences          & 1                      & 1                      & ...                    & 1                      & 80                     & 0                      &  8                     & 0                      & 1                      &  6                     & 4                      & 0                      & 5                     \\\\\n",
       "\t 49                       & No                       & Travel\\_Frequently      &  279                     & Research \\& Development & 8                        & 1                        & Life Sciences            & 1                        & 2                        & ...                      & 4                        & 80                       & 1                        & 10                       & 3                        & 3                        & 10                       & 7                        & 1                        & 7                       \\\\\n",
       "\t 37                       & Yes                      & Travel\\_Rarely          & 1373                     & Research \\& Development & 2                        & 2                        & Other                    & 1                        & 4                        & ...                      & 2                        & 80                       & 0                        &  7                       & 3                        & 3                        &  0                       & 0                        & 0                        & 0                       \\\\\n",
       "\t 33                       & No                       & Travel\\_Frequently      & 1392                     & Research \\& Development & 3                        & 4                        & Life Sciences            & 1                        & 5                        & ...                      & 3                        & 80                       & 0                        &  8                       & 3                        & 3                        &  8                       & 7                        & 3                        & 0                       \\\\\n",
       "\t 27                       & No                       & Travel\\_Rarely          &  591                     & Research \\& Development & 2                        & 1                        & Medical                  & 1                        & 7                        & ...                      & 4                        & 80                       & 1                        &  6                       & 3                        & 3                        &  2                       & 2                        & 2                        & 2                       \\\\\n",
       "\t 32                       & No                       & Travel\\_Frequently      & 1005                     & Research \\& Development & 2                        & 2                        & Life Sciences            & 1                        & 8                        & ...                      & 3                        & 80                       & 0                        &  8                       & 2                        & 2                        &  7                       & 7                        & 3                        & 6                       \\\\\n",
       "\\end{tabular}\n"
      ],
      "text/markdown": [
       "\n",
       "| Age | Attrition | BusinessTravel | DailyRate | Department | DistanceFromHome | Education | EducationField | EmployeeCount | EmployeeNumber | ... | RelationshipSatisfaction | StandardHours | StockOptionLevel | TotalWorkingYears | TrainingTimesLastYear | WorkLifeBalance | YearsAtCompany | YearsInCurrentRole | YearsSinceLastPromotion | YearsWithCurrManager |\n",
       "|---|---|---|---|---|---|---|---|---|---|---|---|---|---|---|---|---|---|---|---|---|\n",
       "| 41                     | Yes                    | Travel_Rarely          | 1102                   | Sales                  | 1                      | 2                      | Life Sciences          | 1                      | 1                      | ...                    | 1                      | 80                     | 0                      |  8                     | 0                      | 1                      |  6                     | 4                      | 0                      | 5                      |\n",
       "| 49                     | No                     | Travel_Frequently      |  279                   | Research & Development | 8                      | 1                      | Life Sciences          | 1                      | 2                      | ...                    | 4                      | 80                     | 1                      | 10                     | 3                      | 3                      | 10                     | 7                      | 1                      | 7                      |\n",
       "| 37                     | Yes                    | Travel_Rarely          | 1373                   | Research & Development | 2                      | 2                      | Other                  | 1                      | 4                      | ...                    | 2                      | 80                     | 0                      |  7                     | 3                      | 3                      |  0                     | 0                      | 0                      | 0                      |\n",
       "| 33                     | No                     | Travel_Frequently      | 1392                   | Research & Development | 3                      | 4                      | Life Sciences          | 1                      | 5                      | ...                    | 3                      | 80                     | 0                      |  8                     | 3                      | 3                      |  8                     | 7                      | 3                      | 0                      |\n",
       "| 27                     | No                     | Travel_Rarely          |  591                   | Research & Development | 2                      | 1                      | Medical                | 1                      | 7                      | ...                    | 4                      | 80                     | 1                      |  6                     | 3                      | 3                      |  2                     | 2                      | 2                      | 2                      |\n",
       "| 32                     | No                     | Travel_Frequently      | 1005                   | Research & Development | 2                      | 2                      | Life Sciences          | 1                      | 8                      | ...                    | 3                      | 80                     | 0                      |  8                     | 2                      | 2                      |  7                     | 7                      | 3                      | 6                      |\n",
       "\n"
      ],
      "text/plain": [
       "  Age Attrition BusinessTravel    DailyRate Department            \n",
       "1 41  Yes       Travel_Rarely     1102      Sales                 \n",
       "2 49  No        Travel_Frequently  279      Research & Development\n",
       "3 37  Yes       Travel_Rarely     1373      Research & Development\n",
       "4 33  No        Travel_Frequently 1392      Research & Development\n",
       "5 27  No        Travel_Rarely      591      Research & Development\n",
       "6 32  No        Travel_Frequently 1005      Research & Development\n",
       "  DistanceFromHome Education EducationField EmployeeCount EmployeeNumber ...\n",
       "1 1                2         Life Sciences  1             1              ...\n",
       "2 8                1         Life Sciences  1             2              ...\n",
       "3 2                2         Other          1             4              ...\n",
       "4 3                4         Life Sciences  1             5              ...\n",
       "5 2                1         Medical        1             7              ...\n",
       "6 2                2         Life Sciences  1             8              ...\n",
       "  RelationshipSatisfaction StandardHours StockOptionLevel TotalWorkingYears\n",
       "1 1                        80            0                 8               \n",
       "2 4                        80            1                10               \n",
       "3 2                        80            0                 7               \n",
       "4 3                        80            0                 8               \n",
       "5 4                        80            1                 6               \n",
       "6 3                        80            0                 8               \n",
       "  TrainingTimesLastYear WorkLifeBalance YearsAtCompany YearsInCurrentRole\n",
       "1 0                     1                6             4                 \n",
       "2 3                     3               10             7                 \n",
       "3 3                     3                0             0                 \n",
       "4 3                     3                8             7                 \n",
       "5 3                     3                2             2                 \n",
       "6 2                     2                7             7                 \n",
       "  YearsSinceLastPromotion YearsWithCurrManager\n",
       "1 0                       5                   \n",
       "2 1                       7                   \n",
       "3 0                       0                   \n",
       "4 3                       0                   \n",
       "5 2                       2                   \n",
       "6 3                       6                   "
      ]
     },
     "metadata": {},
     "output_type": "display_data"
    }
   ],
   "source": [
    "head(employeeData)"
   ]
  },
  {
   "cell_type": "markdown",
   "metadata": {},
   "source": [
    "1.1 Count the number of rows (records)"
   ]
  },
  {
   "cell_type": "code",
   "execution_count": 5,
   "metadata": {},
   "outputs": [
    {
     "data": {
      "text/html": [
       "1470"
      ],
      "text/latex": [
       "1470"
      ],
      "text/markdown": [
       "1470"
      ],
      "text/plain": [
       "[1] 1470"
      ]
     },
     "metadata": {},
     "output_type": "display_data"
    }
   ],
   "source": [
    "nrow(employeeData)"
   ]
  },
  {
   "cell_type": "markdown",
   "metadata": {},
   "source": [
    "1.1 Count the number of columns (attributes)"
   ]
  },
  {
   "cell_type": "code",
   "execution_count": 6,
   "metadata": {},
   "outputs": [
    {
     "data": {
      "text/html": [
       "35"
      ],
      "text/latex": [
       "35"
      ],
      "text/markdown": [
       "35"
      ],
      "text/plain": [
       "[1] 35"
      ]
     },
     "metadata": {},
     "output_type": "display_data"
    }
   ],
   "source": [
    "length(employeeData)"
   ]
  },
  {
   "cell_type": "markdown",
   "metadata": {},
   "source": [
    "1.2 Unique JOBROLE in dataset"
   ]
  },
  {
   "cell_type": "code",
   "execution_count": 13,
   "metadata": {},
   "outputs": [
    {
     "data": {
      "text/html": [
       "<table>\n",
       "<thead><tr><th></th><th scope=col>employeeData.JobRole</th></tr></thead>\n",
       "<tbody>\n",
       "\t<tr><th scope=row>1</th><td>Sales Executive          </td></tr>\n",
       "\t<tr><th scope=row>2</th><td>Research Scientist       </td></tr>\n",
       "\t<tr><th scope=row>3</th><td>Laboratory Technician    </td></tr>\n",
       "\t<tr><th scope=row>9</th><td>Manufacturing Director   </td></tr>\n",
       "\t<tr><th scope=row>10</th><td>Healthcare Representative</td></tr>\n",
       "\t<tr><th scope=row>19</th><td>Manager                  </td></tr>\n",
       "\t<tr><th scope=row>22</th><td>Sales Representative     </td></tr>\n",
       "\t<tr><th scope=row>23</th><td>Research Director        </td></tr>\n",
       "\t<tr><th scope=row>80</th><td>Human Resources          </td></tr>\n",
       "</tbody>\n",
       "</table>\n"
      ],
      "text/latex": [
       "\\begin{tabular}{r|l}\n",
       "  & employeeData.JobRole\\\\\n",
       "\\hline\n",
       "\t1 & Sales Executive          \\\\\n",
       "\t2 & Research Scientist       \\\\\n",
       "\t3 & Laboratory Technician    \\\\\n",
       "\t9 & Manufacturing Director   \\\\\n",
       "\t10 & Healthcare Representative\\\\\n",
       "\t19 & Manager                  \\\\\n",
       "\t22 & Sales Representative     \\\\\n",
       "\t23 & Research Director        \\\\\n",
       "\t80 & Human Resources          \\\\\n",
       "\\end{tabular}\n"
      ],
      "text/markdown": [
       "\n",
       "| <!--/--> | employeeData.JobRole |\n",
       "|---|---|\n",
       "| 1 | Sales Executive           |\n",
       "| 2 | Research Scientist        |\n",
       "| 3 | Laboratory Technician     |\n",
       "| 9 | Manufacturing Director    |\n",
       "| 10 | Healthcare Representative |\n",
       "| 19 | Manager                   |\n",
       "| 22 | Sales Representative      |\n",
       "| 23 | Research Director         |\n",
       "| 80 | Human Resources           |\n",
       "\n"
      ],
      "text/plain": [
       "   employeeData.JobRole     \n",
       "1  Sales Executive          \n",
       "2  Research Scientist       \n",
       "3  Laboratory Technician    \n",
       "9  Manufacturing Director   \n",
       "10 Healthcare Representative\n",
       "19 Manager                  \n",
       "22 Sales Representative     \n",
       "23 Research Director        \n",
       "80 Human Resources          "
      ]
     },
     "metadata": {},
     "output_type": "display_data"
    }
   ],
   "source": [
    "unique(data.frame(employeeData$JobRole))"
   ]
  },
  {
   "cell_type": "markdown",
   "metadata": {},
   "source": [
    "1.3 What percent of total employees have TOTALWORKINGYEARS less than equal to 5"
   ]
  },
  {
   "cell_type": "code",
   "execution_count": 11,
   "metadata": {},
   "outputs": [
    {
     "data": {
      "text/html": [
       "21.5"
      ],
      "text/latex": [
       "21.5"
      ],
      "text/markdown": [
       "21.5"
      ],
      "text/plain": [
       "[1] 21.5"
      ]
     },
     "metadata": {},
     "output_type": "display_data"
    }
   ],
   "source": [
    "round(mean(employeeData$TotalWorkingYears <= 5) * 100, digits=2)"
   ]
  },
  {
   "cell_type": "markdown",
   "metadata": {},
   "source": [
    "1.4 Find EMPLOYEENUMBER, EDUCATIONFIELD, JOBROLE for all employees whose age is greater than equal to 50 and ATTRITION is YES"
   ]
  },
  {
   "cell_type": "code",
   "execution_count": 12,
   "metadata": {},
   "outputs": [
    {
     "data": {
      "text/html": [
       "<table>\n",
       "<thead><tr><th></th><th scope=col>EmployeeNumber</th><th scope=col>EducationField</th><th scope=col>JobRole</th></tr></thead>\n",
       "<tbody>\n",
       "\t<tr><th scope=row>37</th><td>  47                     </td><td>Marketing                </td><td>Sales Representative     </td></tr>\n",
       "\t<tr><th scope=row>123</th><td> 161                     </td><td>Life Sciences            </td><td>Research Scientist       </td></tr>\n",
       "\t<tr><th scope=row>127</th><td> 165                     </td><td>Medical                  </td><td>Healthcare Representative</td></tr>\n",
       "\t<tr><th scope=row>137</th><td> 179                     </td><td>Life Sciences            </td><td>Manufacturing Director   </td></tr>\n",
       "\t<tr><th scope=row>318</th><td> 433                     </td><td>Medical                  </td><td>Research Scientist       </td></tr>\n",
       "\t<tr><th scope=row>529</th><td> 723                     </td><td>Technical Degree         </td><td>Sales Executive          </td></tr>\n",
       "\t<tr><th scope=row>569</th><td> 787                     </td><td>Medical                  </td><td>Manager                  </td></tr>\n",
       "\t<tr><th scope=row>596</th><td> 825                     </td><td>Life Sciences            </td><td>Research Director        </td></tr>\n",
       "\t<tr><th scope=row>609</th><td> 842                     </td><td>Medical                  </td><td>Sales Executive          </td></tr>\n",
       "\t<tr><th scope=row>661</th><td> 918                     </td><td>Life Sciences            </td><td>Laboratory Technician    </td></tr>\n",
       "\t<tr><th scope=row>701</th><td> 977                     </td><td>Technical Degree         </td><td>Research Scientist       </td></tr>\n",
       "\t<tr><th scope=row>750</th><td>1038                     </td><td>Marketing                </td><td>Manager                  </td></tr>\n",
       "\t<tr><th scope=row>780</th><td>1081                     </td><td>Life Sciences            </td><td>Research Scientist       </td></tr>\n",
       "\t<tr><th scope=row>802</th><td>1113                     </td><td>Other                    </td><td>Sales Executive          </td></tr>\n",
       "\t<tr><th scope=row>948</th><td>1319                     </td><td>Life Sciences            </td><td>Sales Executive          </td></tr>\n",
       "\t<tr><th scope=row>967</th><td>1360                     </td><td>Medical                  </td><td>Manufacturing Director   </td></tr>\n",
       "\t<tr><th scope=row>976</th><td>1372                     </td><td>Marketing                </td><td>Sales Executive          </td></tr>\n",
       "\t<tr><th scope=row>1112</th><td>1572                     </td><td>Technical Degree         </td><td>Manufacturing Director   </td></tr>\n",
       "\t<tr><th scope=row>1355</th><td>1907                     </td><td>Life Sciences            </td><td>Laboratory Technician    </td></tr>\n",
       "\t<tr><th scope=row>1397</th><td>1968                     </td><td>Life Sciences            </td><td>Sales Executive          </td></tr>\n",
       "\t<tr><th scope=row>1445</th><td>2032                     </td><td>Technical Degree         </td><td>Laboratory Technician    </td></tr>\n",
       "\t<tr><th scope=row>1453</th><td>2044                     </td><td>Life Sciences            </td><td>Sales Executive          </td></tr>\n",
       "\t<tr><th scope=row>1462</th><td>2055                     </td><td>Marketing                </td><td>Sales Executive          </td></tr>\n",
       "</tbody>\n",
       "</table>\n"
      ],
      "text/latex": [
       "\\begin{tabular}{r|lll}\n",
       "  & EmployeeNumber & EducationField & JobRole\\\\\n",
       "\\hline\n",
       "\t37 &   47                      & Marketing                 & Sales Representative     \\\\\n",
       "\t123 &  161                      & Life Sciences             & Research Scientist       \\\\\n",
       "\t127 &  165                      & Medical                   & Healthcare Representative\\\\\n",
       "\t137 &  179                      & Life Sciences             & Manufacturing Director   \\\\\n",
       "\t318 &  433                      & Medical                   & Research Scientist       \\\\\n",
       "\t529 &  723                      & Technical Degree          & Sales Executive          \\\\\n",
       "\t569 &  787                      & Medical                   & Manager                  \\\\\n",
       "\t596 &  825                      & Life Sciences             & Research Director        \\\\\n",
       "\t609 &  842                      & Medical                   & Sales Executive          \\\\\n",
       "\t661 &  918                      & Life Sciences             & Laboratory Technician    \\\\\n",
       "\t701 &  977                      & Technical Degree          & Research Scientist       \\\\\n",
       "\t750 & 1038                      & Marketing                 & Manager                  \\\\\n",
       "\t780 & 1081                      & Life Sciences             & Research Scientist       \\\\\n",
       "\t802 & 1113                      & Other                     & Sales Executive          \\\\\n",
       "\t948 & 1319                      & Life Sciences             & Sales Executive          \\\\\n",
       "\t967 & 1360                      & Medical                   & Manufacturing Director   \\\\\n",
       "\t976 & 1372                      & Marketing                 & Sales Executive          \\\\\n",
       "\t1112 & 1572                      & Technical Degree          & Manufacturing Director   \\\\\n",
       "\t1355 & 1907                      & Life Sciences             & Laboratory Technician    \\\\\n",
       "\t1397 & 1968                      & Life Sciences             & Sales Executive          \\\\\n",
       "\t1445 & 2032                      & Technical Degree          & Laboratory Technician    \\\\\n",
       "\t1453 & 2044                      & Life Sciences             & Sales Executive          \\\\\n",
       "\t1462 & 2055                      & Marketing                 & Sales Executive          \\\\\n",
       "\\end{tabular}\n"
      ],
      "text/markdown": [
       "\n",
       "| <!--/--> | EmployeeNumber | EducationField | JobRole |\n",
       "|---|---|---|---|\n",
       "| 37 |   47                      | Marketing                 | Sales Representative      |\n",
       "| 123 |  161                      | Life Sciences             | Research Scientist        |\n",
       "| 127 |  165                      | Medical                   | Healthcare Representative |\n",
       "| 137 |  179                      | Life Sciences             | Manufacturing Director    |\n",
       "| 318 |  433                      | Medical                   | Research Scientist        |\n",
       "| 529 |  723                      | Technical Degree          | Sales Executive           |\n",
       "| 569 |  787                      | Medical                   | Manager                   |\n",
       "| 596 |  825                      | Life Sciences             | Research Director         |\n",
       "| 609 |  842                      | Medical                   | Sales Executive           |\n",
       "| 661 |  918                      | Life Sciences             | Laboratory Technician     |\n",
       "| 701 |  977                      | Technical Degree          | Research Scientist        |\n",
       "| 750 | 1038                      | Marketing                 | Manager                   |\n",
       "| 780 | 1081                      | Life Sciences             | Research Scientist        |\n",
       "| 802 | 1113                      | Other                     | Sales Executive           |\n",
       "| 948 | 1319                      | Life Sciences             | Sales Executive           |\n",
       "| 967 | 1360                      | Medical                   | Manufacturing Director    |\n",
       "| 976 | 1372                      | Marketing                 | Sales Executive           |\n",
       "| 1112 | 1572                      | Technical Degree          | Manufacturing Director    |\n",
       "| 1355 | 1907                      | Life Sciences             | Laboratory Technician     |\n",
       "| 1397 | 1968                      | Life Sciences             | Sales Executive           |\n",
       "| 1445 | 2032                      | Technical Degree          | Laboratory Technician     |\n",
       "| 1453 | 2044                      | Life Sciences             | Sales Executive           |\n",
       "| 1462 | 2055                      | Marketing                 | Sales Executive           |\n",
       "\n"
      ],
      "text/plain": [
       "     EmployeeNumber EducationField   JobRole                  \n",
       "37     47           Marketing        Sales Representative     \n",
       "123   161           Life Sciences    Research Scientist       \n",
       "127   165           Medical          Healthcare Representative\n",
       "137   179           Life Sciences    Manufacturing Director   \n",
       "318   433           Medical          Research Scientist       \n",
       "529   723           Technical Degree Sales Executive          \n",
       "569   787           Medical          Manager                  \n",
       "596   825           Life Sciences    Research Director        \n",
       "609   842           Medical          Sales Executive          \n",
       "661   918           Life Sciences    Laboratory Technician    \n",
       "701   977           Technical Degree Research Scientist       \n",
       "750  1038           Marketing        Manager                  \n",
       "780  1081           Life Sciences    Research Scientist       \n",
       "802  1113           Other            Sales Executive          \n",
       "948  1319           Life Sciences    Sales Executive          \n",
       "967  1360           Medical          Manufacturing Director   \n",
       "976  1372           Marketing        Sales Executive          \n",
       "1112 1572           Technical Degree Manufacturing Director   \n",
       "1355 1907           Life Sciences    Laboratory Technician    \n",
       "1397 1968           Life Sciences    Sales Executive          \n",
       "1445 2032           Technical Degree Laboratory Technician    \n",
       "1453 2044           Life Sciences    Sales Executive          \n",
       "1462 2055           Marketing        Sales Executive          "
      ]
     },
     "metadata": {},
     "output_type": "display_data"
    }
   ],
   "source": [
    "subset(employeeData, Age >= 50 & Attrition == 'Yes', select = c(EmployeeNumber, EducationField, JobRole))"
   ]
  },
  {
   "cell_type": "markdown",
   "metadata": {},
   "source": [
    "1.5 For each JOBROLE, find the average MONTHLYINCOME. Arrange the ouput in descending order"
   ]
  },
  {
   "cell_type": "code",
   "execution_count": 14,
   "metadata": {},
   "outputs": [
    {
     "name": "stderr",
     "output_type": "stream",
     "text": [
      "\n",
      "Attaching package: 'dplyr'\n",
      "\n",
      "The following objects are masked from 'package:stats':\n",
      "\n",
      "    filter, lag\n",
      "\n",
      "The following objects are masked from 'package:base':\n",
      "\n",
      "    intersect, setdiff, setequal, union\n",
      "\n"
     ]
    }
   ],
   "source": [
    "library(dplyr)"
   ]
  },
  {
   "cell_type": "code",
   "execution_count": 18,
   "metadata": {},
   "outputs": [
    {
     "data": {
      "text/html": [
       "<table>\n",
       "<thead><tr><th scope=col>JobRole</th><th scope=col>AvgMonthlyIncome</th></tr></thead>\n",
       "<tbody>\n",
       "\t<tr><td>Manager                  </td><td>17181.676                </td></tr>\n",
       "\t<tr><td>Research Director        </td><td>16033.550                </td></tr>\n",
       "\t<tr><td>Healthcare Representative</td><td> 7528.763                </td></tr>\n",
       "\t<tr><td>Manufacturing Director   </td><td> 7295.138                </td></tr>\n",
       "\t<tr><td>Sales Executive          </td><td> 6924.279                </td></tr>\n",
       "\t<tr><td>Human Resources          </td><td> 4235.750                </td></tr>\n",
       "\t<tr><td>Research Scientist       </td><td> 3239.973                </td></tr>\n",
       "\t<tr><td>Laboratory Technician    </td><td> 3237.170                </td></tr>\n",
       "\t<tr><td>Sales Representative     </td><td> 2626.000                </td></tr>\n",
       "</tbody>\n",
       "</table>\n"
      ],
      "text/latex": [
       "\\begin{tabular}{r|ll}\n",
       " JobRole & AvgMonthlyIncome\\\\\n",
       "\\hline\n",
       "\t Manager                   & 17181.676                \\\\\n",
       "\t Research Director         & 16033.550                \\\\\n",
       "\t Healthcare Representative &  7528.763                \\\\\n",
       "\t Manufacturing Director    &  7295.138                \\\\\n",
       "\t Sales Executive           &  6924.279                \\\\\n",
       "\t Human Resources           &  4235.750                \\\\\n",
       "\t Research Scientist        &  3239.973                \\\\\n",
       "\t Laboratory Technician     &  3237.170                \\\\\n",
       "\t Sales Representative      &  2626.000                \\\\\n",
       "\\end{tabular}\n"
      ],
      "text/markdown": [
       "\n",
       "| JobRole | AvgMonthlyIncome |\n",
       "|---|---|\n",
       "| Manager                   | 17181.676                 |\n",
       "| Research Director         | 16033.550                 |\n",
       "| Healthcare Representative |  7528.763                 |\n",
       "| Manufacturing Director    |  7295.138                 |\n",
       "| Sales Executive           |  6924.279                 |\n",
       "| Human Resources           |  4235.750                 |\n",
       "| Research Scientist        |  3239.973                 |\n",
       "| Laboratory Technician     |  3237.170                 |\n",
       "| Sales Representative      |  2626.000                 |\n",
       "\n"
      ],
      "text/plain": [
       "  JobRole                   AvgMonthlyIncome\n",
       "1 Manager                   17181.676       \n",
       "2 Research Director         16033.550       \n",
       "3 Healthcare Representative  7528.763       \n",
       "4 Manufacturing Director     7295.138       \n",
       "5 Sales Executive            6924.279       \n",
       "6 Human Resources            4235.750       \n",
       "7 Research Scientist         3239.973       \n",
       "8 Laboratory Technician      3237.170       \n",
       "9 Sales Representative       2626.000       "
      ]
     },
     "metadata": {},
     "output_type": "display_data"
    }
   ],
   "source": [
    "employeeData %>%\n",
    "    group_by(JobRole) %>%\n",
    "    summarize(AvgMonthlyIncome = mean(MonthlyIncome)) %>%\n",
    "    arrange(desc(AvgMonthlyIncome))"
   ]
  },
  {
   "cell_type": "markdown",
   "metadata": {},
   "source": [
    "1.6 Count the different MARITALSTATUS when ATTRITION is YES and AGE is greater than 35. Arrange the count in descending order"
   ]
  },
  {
   "cell_type": "code",
   "execution_count": 53,
   "metadata": {},
   "outputs": [
    {
     "data": {
      "text/html": [
       "<table>\n",
       "<thead><tr><th scope=col>MaritalStatus</th><th scope=col>n</th></tr></thead>\n",
       "<tbody>\n",
       "\t<tr><td>Married </td><td>33      </td></tr>\n",
       "\t<tr><td>Single  </td><td>30      </td></tr>\n",
       "\t<tr><td>Divorced</td><td>14      </td></tr>\n",
       "</tbody>\n",
       "</table>\n"
      ],
      "text/latex": [
       "\\begin{tabular}{r|ll}\n",
       " MaritalStatus & n\\\\\n",
       "\\hline\n",
       "\t Married  & 33      \\\\\n",
       "\t Single   & 30      \\\\\n",
       "\t Divorced & 14      \\\\\n",
       "\\end{tabular}\n"
      ],
      "text/markdown": [
       "\n",
       "| MaritalStatus | n |\n",
       "|---|---|\n",
       "| Married  | 33       |\n",
       "| Single   | 30       |\n",
       "| Divorced | 14       |\n",
       "\n"
      ],
      "text/plain": [
       "  MaritalStatus n \n",
       "1 Married       33\n",
       "2 Single        30\n",
       "3 Divorced      14"
      ]
     },
     "metadata": {},
     "output_type": "display_data"
    }
   ],
   "source": [
    "employeeData %>%\n",
    "  dplyr::filter(Attrition == 'Yes' & Age > 35) %>%\n",
    "  dplyr::group_by(MaritalStatus) %>%\n",
    "  dplyr::count(MaritalStatus)  %>%\n",
    "  dplyr::arrange(desc(n))"
   ]
  },
  {
   "cell_type": "markdown",
   "metadata": {},
   "source": [
    "1.7 For all the women employees having AGE between 55 and 60 and JOBLEVEL > 4, sort the DEPARTMENT from A to Z first and then EMPLOYEENUMBER in ascending order. Print only DEPARTMENT and EMPLOYEENUMBER in the output "
   ]
  },
  {
   "cell_type": "code",
   "execution_count": 74,
   "metadata": {},
   "outputs": [
    {
     "data": {
      "text/html": [
       "<table>\n",
       "<thead><tr><th scope=col>Department</th><th scope=col>EmployeeNumber</th></tr></thead>\n",
       "<tbody>\n",
       "\t<tr><td>Human Resources       </td><td> 140                  </td></tr>\n",
       "\t<tr><td>Research &amp; Development</td><td> 549                      </td></tr>\n",
       "\t<tr><td>Research &amp; Development</td><td>1191                      </td></tr>\n",
       "\t<tr><td>Research &amp; Development</td><td>1423                      </td></tr>\n",
       "</tbody>\n",
       "</table>\n"
      ],
      "text/latex": [
       "\\begin{tabular}{r|ll}\n",
       " Department & EmployeeNumber\\\\\n",
       "\\hline\n",
       "\t Human Resources        &  140                  \\\\\n",
       "\t Research \\& Development &  549                    \\\\\n",
       "\t Research \\& Development & 1191                    \\\\\n",
       "\t Research \\& Development & 1423                    \\\\\n",
       "\\end{tabular}\n"
      ],
      "text/markdown": [
       "\n",
       "| Department | EmployeeNumber |\n",
       "|---|---|\n",
       "| Human Resources        |  140                   |\n",
       "| Research & Development |  549                   |\n",
       "| Research & Development | 1191                   |\n",
       "| Research & Development | 1423                   |\n",
       "\n"
      ],
      "text/plain": [
       "  Department             EmployeeNumber\n",
       "1 Human Resources         140          \n",
       "2 Research & Development  549          \n",
       "3 Research & Development 1191          \n",
       "4 Research & Development 1423          "
      ]
     },
     "metadata": {},
     "output_type": "display_data"
    }
   ],
   "source": [
    "employeeData %>%\n",
    "       filter(Gender == \"Female\" & (Age > 55 & Age <= 60) & JobLevel > 4) %>%\n",
    "       select(Department, EmployeeNumber)\n"
   ]
  },
  {
   "cell_type": "markdown",
   "metadata": {},
   "source": [
    "1.8 What are the correlations between Education, JobSatisfaction, and HourlyRate?"
   ]
  },
  {
   "cell_type": "code",
   "execution_count": 61,
   "metadata": {},
   "outputs": [],
   "source": [
    "df<-subset(employeeData, select = c(Education, JobSatisfaction, HourlyRate))"
   ]
  },
  {
   "cell_type": "code",
   "execution_count": 62,
   "metadata": {},
   "outputs": [
    {
     "data": {
      "text/html": [
       "<table>\n",
       "<thead><tr><th></th><th scope=col>Education</th><th scope=col>JobSatisfaction</th><th scope=col>HourlyRate</th></tr></thead>\n",
       "<tbody>\n",
       "\t<tr><th scope=row>Education</th><td> 1.00000000</td><td>-0.01129612</td><td> 0.01677483</td></tr>\n",
       "\t<tr><th scope=row>JobSatisfaction</th><td>-0.01129612</td><td> 1.00000000</td><td>-0.07133462</td></tr>\n",
       "\t<tr><th scope=row>HourlyRate</th><td> 0.01677483</td><td>-0.07133462</td><td> 1.00000000</td></tr>\n",
       "</tbody>\n",
       "</table>\n"
      ],
      "text/latex": [
       "\\begin{tabular}{r|lll}\n",
       "  & Education & JobSatisfaction & HourlyRate\\\\\n",
       "\\hline\n",
       "\tEducation &  1.00000000 & -0.01129612 &  0.01677483\\\\\n",
       "\tJobSatisfaction & -0.01129612 &  1.00000000 & -0.07133462\\\\\n",
       "\tHourlyRate &  0.01677483 & -0.07133462 &  1.00000000\\\\\n",
       "\\end{tabular}\n"
      ],
      "text/markdown": [
       "\n",
       "| <!--/--> | Education | JobSatisfaction | HourlyRate |\n",
       "|---|---|---|---|\n",
       "| Education |  1.00000000 | -0.01129612 |  0.01677483 |\n",
       "| JobSatisfaction | -0.01129612 |  1.00000000 | -0.07133462 |\n",
       "| HourlyRate |  0.01677483 | -0.07133462 |  1.00000000 |\n",
       "\n"
      ],
      "text/plain": [
       "                Education   JobSatisfaction HourlyRate \n",
       "Education        1.00000000 -0.01129612      0.01677483\n",
       "JobSatisfaction -0.01129612  1.00000000     -0.07133462\n",
       "HourlyRate       0.01677483 -0.07133462      1.00000000"
      ]
     },
     "metadata": {},
     "output_type": "display_data"
    }
   ],
   "source": [
    "cor(df, method = 'pearson')"
   ]
  },
  {
   "cell_type": "code",
   "execution_count": 63,
   "metadata": {},
   "outputs": [
    {
     "data": {
      "text/html": [
       "<table>\n",
       "<thead><tr><th></th><th scope=col>Education</th><th scope=col>JobSatisfaction</th><th scope=col>HourlyRate</th></tr></thead>\n",
       "<tbody>\n",
       "\t<tr><th scope=row>Education</th><td> 1.000000000</td><td>-0.005175469</td><td> 0.01443190 </td></tr>\n",
       "\t<tr><th scope=row>JobSatisfaction</th><td>-0.005175469</td><td> 1.000000000</td><td>-0.06834017 </td></tr>\n",
       "\t<tr><th scope=row>HourlyRate</th><td> 0.014431900</td><td>-0.068340173</td><td> 1.00000000 </td></tr>\n",
       "</tbody>\n",
       "</table>\n"
      ],
      "text/latex": [
       "\\begin{tabular}{r|lll}\n",
       "  & Education & JobSatisfaction & HourlyRate\\\\\n",
       "\\hline\n",
       "\tEducation &  1.000000000 & -0.005175469 &  0.01443190 \\\\\n",
       "\tJobSatisfaction & -0.005175469 &  1.000000000 & -0.06834017 \\\\\n",
       "\tHourlyRate &  0.014431900 & -0.068340173 &  1.00000000 \\\\\n",
       "\\end{tabular}\n"
      ],
      "text/markdown": [
       "\n",
       "| <!--/--> | Education | JobSatisfaction | HourlyRate |\n",
       "|---|---|---|---|\n",
       "| Education |  1.000000000 | -0.005175469 |  0.01443190  |\n",
       "| JobSatisfaction | -0.005175469 |  1.000000000 | -0.06834017  |\n",
       "| HourlyRate |  0.014431900 | -0.068340173 |  1.00000000  |\n",
       "\n"
      ],
      "text/plain": [
       "                Education    JobSatisfaction HourlyRate \n",
       "Education        1.000000000 -0.005175469     0.01443190\n",
       "JobSatisfaction -0.005175469  1.000000000    -0.06834017\n",
       "HourlyRate       0.014431900 -0.068340173     1.00000000"
      ]
     },
     "metadata": {},
     "output_type": "display_data"
    }
   ],
   "source": [
    "cor(df, method = 'spearman')"
   ]
  },
  {
   "cell_type": "code",
   "execution_count": 64,
   "metadata": {},
   "outputs": [
    {
     "data": {
      "text/html": [
       "<table>\n",
       "<thead><tr><th></th><th scope=col>Education</th><th scope=col>JobSatisfaction</th><th scope=col>HourlyRate</th></tr></thead>\n",
       "<tbody>\n",
       "\t<tr><th scope=row>Education</th><td> 1.000000000</td><td>-0.004297219</td><td> 0.01091602 </td></tr>\n",
       "\t<tr><th scope=row>JobSatisfaction</th><td>-0.004297219</td><td> 1.000000000</td><td>-0.05178020 </td></tr>\n",
       "\t<tr><th scope=row>HourlyRate</th><td> 0.010916021</td><td>-0.051780202</td><td> 1.00000000 </td></tr>\n",
       "</tbody>\n",
       "</table>\n"
      ],
      "text/latex": [
       "\\begin{tabular}{r|lll}\n",
       "  & Education & JobSatisfaction & HourlyRate\\\\\n",
       "\\hline\n",
       "\tEducation &  1.000000000 & -0.004297219 &  0.01091602 \\\\\n",
       "\tJobSatisfaction & -0.004297219 &  1.000000000 & -0.05178020 \\\\\n",
       "\tHourlyRate &  0.010916021 & -0.051780202 &  1.00000000 \\\\\n",
       "\\end{tabular}\n"
      ],
      "text/markdown": [
       "\n",
       "| <!--/--> | Education | JobSatisfaction | HourlyRate |\n",
       "|---|---|---|---|\n",
       "| Education |  1.000000000 | -0.004297219 |  0.01091602  |\n",
       "| JobSatisfaction | -0.004297219 |  1.000000000 | -0.05178020  |\n",
       "| HourlyRate |  0.010916021 | -0.051780202 |  1.00000000  |\n",
       "\n"
      ],
      "text/plain": [
       "                Education    JobSatisfaction HourlyRate \n",
       "Education        1.000000000 -0.004297219     0.01091602\n",
       "JobSatisfaction -0.004297219  1.000000000    -0.05178020\n",
       "HourlyRate       0.010916021 -0.051780202     1.00000000"
      ]
     },
     "metadata": {},
     "output_type": "display_data"
    }
   ],
   "source": [
    "cor(df, method = 'kendall')"
   ]
  },
  {
   "cell_type": "markdown",
   "metadata": {},
   "source": [
    "2.1 If the average of HourlyRate of all employees is equal to $65\n",
    "H0 = the average HourlyRate is NOT equal to $65\n",
    "H1 = the average HourlyRaye is equal to $65"
   ]
  },
  {
   "cell_type": "code",
   "execution_count": 65,
   "metadata": {},
   "outputs": [
    {
     "data": {
      "text/plain": [
       "\n",
       "\tOne Sample t-test\n",
       "\n",
       "data:  employeeData$HourlyRate\n",
       "t = 1.6807, df = 1469, p-value = 0.09304\n",
       "alternative hypothesis: true mean is not equal to 65\n",
       "95 percent confidence interval:\n",
       " 64.85106 66.93125\n",
       "sample estimates:\n",
       "mean of x \n",
       " 65.89116 \n"
      ]
     },
     "metadata": {},
     "output_type": "display_data"
    }
   ],
   "source": [
    "t.test(employeeData$HourlyRate, mu = 65)\n",
    "#P-Value > 0.05; we cannot reject Null Hypothesis H0: the average HourlyRate is not equal to $65"
   ]
  },
  {
   "cell_type": "markdown",
   "metadata": {},
   "source": [
    "2.2  If the YearsAtCompany of Single is less than Married\n",
    "H0 = YearsAtCompany of Single is greater than or equal to Married\n",
    "H1 = YearsAtCompany of Single is less than Married"
   ]
  },
  {
   "cell_type": "code",
   "execution_count": 70,
   "metadata": {},
   "outputs": [
    {
     "data": {
      "text/plain": [
       "\n",
       "\tWelch Two Sample t-test\n",
       "\n",
       "data:  YearsAtCompany[MaritalStatus == \"Single\"] and YearsAtCompany[MaritalStatus == \"Married\"]\n",
       "t = -2.5824, df = 1040.8, p-value = 0.009946\n",
       "alternative hypothesis: true difference in means is not equal to 0\n",
       "95 percent confidence interval:\n",
       " -1.6421284 -0.2240914\n",
       "sample estimates:\n",
       "mean of x mean of y \n",
       " 6.374468  7.307578 \n"
      ]
     },
     "metadata": {},
     "output_type": "display_data"
    }
   ],
   "source": [
    "## Method 1\n",
    "with(employeeData,\n",
    "     t.test(YearsAtCompany[MaritalStatus == 'Single'],\n",
    "            YearsAtCompany[MaritalStatus == 'Married']))\n",
    "#P-Value < 0.05; we can reject the null hypothesis: YearsAtCompany of Single is greater than or equal to Married"
   ]
  },
  {
   "cell_type": "markdown",
   "metadata": {},
   "source": [
    "2.3 If the JobSatisfaction of Attrition=Yes is less than Attrition=No.\n",
    "H0 = JobSatisfaction of Attrition=Yes is greater or equal to Attrition=No\n",
    "H1 = JobSatisfaction of Attrition=Yes is less than Attrition=No"
   ]
  },
  {
   "cell_type": "code",
   "execution_count": 71,
   "metadata": {},
   "outputs": [
    {
     "data": {
      "text/plain": [
       "\n",
       "\tWelch Two Sample t-test\n",
       "\n",
       "data:  JobSatisfaction[Attrition == \"Yes\"] and JobSatisfaction[Attrition == \"No\"]\n",
       "t = -3.9261, df = 328.59, p-value = 0.0001052\n",
       "alternative hypothesis: true difference in means is not equal to 0\n",
       "95 percent confidence interval:\n",
       " -0.4656797 -0.1547890\n",
       "sample estimates:\n",
       "mean of x mean of y \n",
       " 2.468354  2.778589 \n"
      ]
     },
     "metadata": {},
     "output_type": "display_data"
    }
   ],
   "source": [
    "with(employeeData,\n",
    "     t.test(JobSatisfaction[Attrition == 'Yes'],\n",
    "            JobSatisfaction[Attrition == 'No']))\n",
    "#P-Value < 0.05; we can reject the null hypothesis: JobSatisfaction of Attrition=Yes is less than Attrition=No"
   ]
  },
  {
   "cell_type": "markdown",
   "metadata": {},
   "source": [
    "2.4 If the MonthlyIncome of Manager is almost equal to Research Director in such\n",
    "senior positions whose ages are greater than 40. \n",
    "\n",
    "H0 = MonthlyIncome of Manager is almost not equal to Research Director in such\n",
    "senior positions whose ages are greater than 40\n",
    "\n",
    "H1 = MonthlyIncome of Manager is almost equal to Research Director in such\n",
    "senior positions whose ages are greater than 40"
   ]
  },
  {
   "cell_type": "code",
   "execution_count": 72,
   "metadata": {},
   "outputs": [
    {
     "data": {
      "text/html": [
       "84"
      ],
      "text/latex": [
       "84"
      ],
      "text/markdown": [
       "84"
      ],
      "text/plain": [
       "[1] 84"
      ]
     },
     "metadata": {},
     "output_type": "display_data"
    },
    {
     "data": {
      "text/html": [
       "53"
      ],
      "text/latex": [
       "53"
      ],
      "text/markdown": [
       "53"
      ],
      "text/plain": [
       "[1] 53"
      ]
     },
     "metadata": {},
     "output_type": "display_data"
    }
   ],
   "source": [
    "## Method 1\n",
    "df1 <- subset(employeeData, JobRole == 'Manager' & Age > 40, select = c(MonthlyIncome))\n",
    "df2 <- subset(employeeData, JobRole == 'Research Director' & Age > 40, select = c(MonthlyIncome))\n",
    "nrow(df1)\n",
    "nrow(df2)"
   ]
  },
  {
   "cell_type": "code",
   "execution_count": 73,
   "metadata": {},
   "outputs": [
    {
     "data": {
      "text/plain": [
       "\n",
       "\tWelch Two Sample t-test\n",
       "\n",
       "data:  df1 and df2\n",
       "t = 0.70664, df = 98.37, p-value = 0.4815\n",
       "alternative hypothesis: true difference in means is not equal to 0\n",
       "95 percent confidence interval:\n",
       " -482.3103 1015.7878\n",
       "sample estimates:\n",
       "mean of x mean of y \n",
       " 17488.06  17221.32 \n"
      ]
     },
     "metadata": {},
     "output_type": "display_data"
    }
   ],
   "source": [
    "t.test(df1, df2)\n",
    "#P-Value > 0.05; we cannot reject Null Hypothesis H0: MonthlyIncome of Manager is almost not equal to Research Director in such\n",
    "#senior positions whose ages are greater than 40"
   ]
  }
 ],
 "metadata": {
  "kernelspec": {
   "display_name": "R",
   "language": "R",
   "name": "ir"
  },
  "language_info": {
   "codemirror_mode": "r",
   "file_extension": ".r",
   "mimetype": "text/x-r-source",
   "name": "R",
   "pygments_lexer": "r",
   "version": "3.6.1"
  }
 },
 "nbformat": 4,
 "nbformat_minor": 4
}
