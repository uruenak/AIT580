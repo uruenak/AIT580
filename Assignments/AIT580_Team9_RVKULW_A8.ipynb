{
 "cells": [
  {
   "cell_type": "markdown",
   "metadata": {},
   "source": [
    "# Task 2"
   ]
  },
  {
   "cell_type": "code",
   "execution_count": 101,
   "metadata": {},
   "outputs": [],
   "source": [
    "import pandas as pd\n",
    "import numpy as np\n",
    "import matplotlib.pyplot as plt\n",
    "from pandas import DataFrame\n",
    "from sklearn.model_selection import train_test_split\n",
    "from sklearn.linear_model import LinearRegression\n",
    "from sklearn.metrics import mean_squared_error\n",
    "from sklearn.metrics import accuracy_score\n",
    "from sklearn.metrics import confusion_matrix\n",
    "from sklearn.cluster import KMeans\n",
    "from sklearn.neighbors import KNeighborsClassifier"
   ]
  },
  {
   "cell_type": "markdown",
   "metadata": {},
   "source": [
    "2.1 Save your data into a file after it is cleaned in Assignment 8"
   ]
  },
  {
   "cell_type": "code",
   "execution_count": 83,
   "metadata": {},
   "outputs": [
    {
     "data": {
      "text/html": [
       "<div>\n",
       "<style scoped>\n",
       "    .dataframe tbody tr th:only-of-type {\n",
       "        vertical-align: middle;\n",
       "    }\n",
       "\n",
       "    .dataframe tbody tr th {\n",
       "        vertical-align: top;\n",
       "    }\n",
       "\n",
       "    .dataframe thead th {\n",
       "        text-align: right;\n",
       "    }\n",
       "</style>\n",
       "<table border=\"1\" class=\"dataframe\">\n",
       "  <thead>\n",
       "    <tr style=\"text-align: right;\">\n",
       "      <th></th>\n",
       "      <th>Car</th>\n",
       "      <th>MPG</th>\n",
       "      <th>Cylinders</th>\n",
       "      <th>Displacement</th>\n",
       "      <th>Horsepower</th>\n",
       "      <th>Weight</th>\n",
       "      <th>Acceleration</th>\n",
       "      <th>Model</th>\n",
       "      <th>Origin</th>\n",
       "    </tr>\n",
       "  </thead>\n",
       "  <tbody>\n",
       "    <tr>\n",
       "      <th>0</th>\n",
       "      <td>Chevrolet Chevelle Malibu</td>\n",
       "      <td>18.0</td>\n",
       "      <td>8.0</td>\n",
       "      <td>307.0</td>\n",
       "      <td>130.0</td>\n",
       "      <td>3504.0</td>\n",
       "      <td>12.0</td>\n",
       "      <td>70.0</td>\n",
       "      <td>US</td>\n",
       "    </tr>\n",
       "    <tr>\n",
       "      <th>1</th>\n",
       "      <td>Buick Skylark 320</td>\n",
       "      <td>15.0</td>\n",
       "      <td>8.0</td>\n",
       "      <td>350.0</td>\n",
       "      <td>165.0</td>\n",
       "      <td>3693.0</td>\n",
       "      <td>11.5</td>\n",
       "      <td>70.0</td>\n",
       "      <td>US</td>\n",
       "    </tr>\n",
       "    <tr>\n",
       "      <th>2</th>\n",
       "      <td>Plymouth Satellite</td>\n",
       "      <td>18.0</td>\n",
       "      <td>8.0</td>\n",
       "      <td>318.0</td>\n",
       "      <td>150.0</td>\n",
       "      <td>3436.0</td>\n",
       "      <td>11.0</td>\n",
       "      <td>70.0</td>\n",
       "      <td>US</td>\n",
       "    </tr>\n",
       "    <tr>\n",
       "      <th>3</th>\n",
       "      <td>AMC Rebel SST</td>\n",
       "      <td>16.0</td>\n",
       "      <td>8.0</td>\n",
       "      <td>304.0</td>\n",
       "      <td>150.0</td>\n",
       "      <td>3433.0</td>\n",
       "      <td>12.0</td>\n",
       "      <td>70.0</td>\n",
       "      <td>US</td>\n",
       "    </tr>\n",
       "    <tr>\n",
       "      <th>4</th>\n",
       "      <td>Ford Torino</td>\n",
       "      <td>17.0</td>\n",
       "      <td>8.0</td>\n",
       "      <td>302.0</td>\n",
       "      <td>140.0</td>\n",
       "      <td>3449.0</td>\n",
       "      <td>10.5</td>\n",
       "      <td>70.0</td>\n",
       "      <td>US</td>\n",
       "    </tr>\n",
       "  </tbody>\n",
       "</table>\n",
       "</div>"
      ],
      "text/plain": [
       "                         Car   MPG  Cylinders  Displacement  Horsepower  \\\n",
       "0  Chevrolet Chevelle Malibu  18.0        8.0         307.0       130.0   \n",
       "1          Buick Skylark 320  15.0        8.0         350.0       165.0   \n",
       "2         Plymouth Satellite  18.0        8.0         318.0       150.0   \n",
       "3              AMC Rebel SST  16.0        8.0         304.0       150.0   \n",
       "4                Ford Torino  17.0        8.0         302.0       140.0   \n",
       "\n",
       "   Weight  Acceleration  Model Origin  \n",
       "0  3504.0          12.0   70.0     US  \n",
       "1  3693.0          11.5   70.0     US  \n",
       "2  3436.0          11.0   70.0     US  \n",
       "3  3433.0          12.0   70.0     US  \n",
       "4  3449.0          10.5   70.0     US  "
      ]
     },
     "execution_count": 83,
     "metadata": {},
     "output_type": "execute_result"
    }
   ],
   "source": [
    "data = pd.read_csv('cars_cleaned.csv')\n",
    "data.head(5)"
   ]
  },
  {
   "cell_type": "code",
   "execution_count": 146,
   "metadata": {},
   "outputs": [
    {
     "data": {
      "text/html": [
       "<div>\n",
       "<style scoped>\n",
       "    .dataframe tbody tr th:only-of-type {\n",
       "        vertical-align: middle;\n",
       "    }\n",
       "\n",
       "    .dataframe tbody tr th {\n",
       "        vertical-align: top;\n",
       "    }\n",
       "\n",
       "    .dataframe thead th {\n",
       "        text-align: right;\n",
       "    }\n",
       "</style>\n",
       "<table border=\"1\" class=\"dataframe\">\n",
       "  <thead>\n",
       "    <tr style=\"text-align: right;\">\n",
       "      <th></th>\n",
       "      <th>Car</th>\n",
       "      <th>MPG</th>\n",
       "      <th>Cylinders</th>\n",
       "      <th>Displacement</th>\n",
       "      <th>Horsepower</th>\n",
       "      <th>Weight</th>\n",
       "      <th>Acceleration</th>\n",
       "      <th>Model</th>\n",
       "      <th>Origin</th>\n",
       "    </tr>\n",
       "  </thead>\n",
       "  <tbody>\n",
       "    <tr>\n",
       "      <th>count</th>\n",
       "      <td>378</td>\n",
       "      <td>378.000000</td>\n",
       "      <td>378.000000</td>\n",
       "      <td>378.000000</td>\n",
       "      <td>378.000000</td>\n",
       "      <td>378.000000</td>\n",
       "      <td>378.000000</td>\n",
       "      <td>378.000000</td>\n",
       "      <td>378</td>\n",
       "    </tr>\n",
       "    <tr>\n",
       "      <th>unique</th>\n",
       "      <td>289</td>\n",
       "      <td>NaN</td>\n",
       "      <td>NaN</td>\n",
       "      <td>NaN</td>\n",
       "      <td>NaN</td>\n",
       "      <td>NaN</td>\n",
       "      <td>NaN</td>\n",
       "      <td>NaN</td>\n",
       "      <td>3</td>\n",
       "    </tr>\n",
       "    <tr>\n",
       "      <th>top</th>\n",
       "      <td>Toyota Corolla</td>\n",
       "      <td>NaN</td>\n",
       "      <td>NaN</td>\n",
       "      <td>NaN</td>\n",
       "      <td>NaN</td>\n",
       "      <td>NaN</td>\n",
       "      <td>NaN</td>\n",
       "      <td>NaN</td>\n",
       "      <td>US</td>\n",
       "    </tr>\n",
       "    <tr>\n",
       "      <th>freq</th>\n",
       "      <td>9</td>\n",
       "      <td>NaN</td>\n",
       "      <td>NaN</td>\n",
       "      <td>NaN</td>\n",
       "      <td>NaN</td>\n",
       "      <td>NaN</td>\n",
       "      <td>NaN</td>\n",
       "      <td>NaN</td>\n",
       "      <td>236</td>\n",
       "    </tr>\n",
       "    <tr>\n",
       "      <th>mean</th>\n",
       "      <td>NaN</td>\n",
       "      <td>23.182011</td>\n",
       "      <td>5.431217</td>\n",
       "      <td>189.620370</td>\n",
       "      <td>102.343915</td>\n",
       "      <td>2958.277778</td>\n",
       "      <td>15.520635</td>\n",
       "      <td>76.021164</td>\n",
       "      <td>NaN</td>\n",
       "    </tr>\n",
       "    <tr>\n",
       "      <th>std</th>\n",
       "      <td>NaN</td>\n",
       "      <td>8.186451</td>\n",
       "      <td>1.683680</td>\n",
       "      <td>99.195822</td>\n",
       "      <td>34.038100</td>\n",
       "      <td>826.982943</td>\n",
       "      <td>2.461469</td>\n",
       "      <td>3.675797</td>\n",
       "      <td>NaN</td>\n",
       "    </tr>\n",
       "    <tr>\n",
       "      <th>min</th>\n",
       "      <td>NaN</td>\n",
       "      <td>0.000000</td>\n",
       "      <td>3.000000</td>\n",
       "      <td>68.000000</td>\n",
       "      <td>46.000000</td>\n",
       "      <td>1613.000000</td>\n",
       "      <td>9.500000</td>\n",
       "      <td>70.000000</td>\n",
       "      <td>NaN</td>\n",
       "    </tr>\n",
       "    <tr>\n",
       "      <th>25%</th>\n",
       "      <td>NaN</td>\n",
       "      <td>17.500000</td>\n",
       "      <td>4.000000</td>\n",
       "      <td>105.000000</td>\n",
       "      <td>76.000000</td>\n",
       "      <td>2223.750000</td>\n",
       "      <td>13.925000</td>\n",
       "      <td>73.000000</td>\n",
       "      <td>NaN</td>\n",
       "    </tr>\n",
       "    <tr>\n",
       "      <th>50%</th>\n",
       "      <td>NaN</td>\n",
       "      <td>22.300000</td>\n",
       "      <td>4.000000</td>\n",
       "      <td>151.000000</td>\n",
       "      <td>93.000000</td>\n",
       "      <td>2811.000000</td>\n",
       "      <td>15.500000</td>\n",
       "      <td>76.000000</td>\n",
       "      <td>NaN</td>\n",
       "    </tr>\n",
       "    <tr>\n",
       "      <th>75%</th>\n",
       "      <td>NaN</td>\n",
       "      <td>29.000000</td>\n",
       "      <td>6.000000</td>\n",
       "      <td>258.000000</td>\n",
       "      <td>120.000000</td>\n",
       "      <td>3573.000000</td>\n",
       "      <td>17.000000</td>\n",
       "      <td>79.000000</td>\n",
       "      <td>NaN</td>\n",
       "    </tr>\n",
       "    <tr>\n",
       "      <th>max</th>\n",
       "      <td>NaN</td>\n",
       "      <td>46.600000</td>\n",
       "      <td>8.000000</td>\n",
       "      <td>429.000000</td>\n",
       "      <td>198.000000</td>\n",
       "      <td>5140.000000</td>\n",
       "      <td>21.900000</td>\n",
       "      <td>82.000000</td>\n",
       "      <td>NaN</td>\n",
       "    </tr>\n",
       "  </tbody>\n",
       "</table>\n",
       "</div>"
      ],
      "text/plain": [
       "                   Car         MPG   Cylinders  Displacement  Horsepower  \\\n",
       "count              378  378.000000  378.000000    378.000000  378.000000   \n",
       "unique             289         NaN         NaN           NaN         NaN   \n",
       "top     Toyota Corolla         NaN         NaN           NaN         NaN   \n",
       "freq                 9         NaN         NaN           NaN         NaN   \n",
       "mean               NaN   23.182011    5.431217    189.620370  102.343915   \n",
       "std                NaN    8.186451    1.683680     99.195822   34.038100   \n",
       "min                NaN    0.000000    3.000000     68.000000   46.000000   \n",
       "25%                NaN   17.500000    4.000000    105.000000   76.000000   \n",
       "50%                NaN   22.300000    4.000000    151.000000   93.000000   \n",
       "75%                NaN   29.000000    6.000000    258.000000  120.000000   \n",
       "max                NaN   46.600000    8.000000    429.000000  198.000000   \n",
       "\n",
       "             Weight  Acceleration       Model Origin  \n",
       "count    378.000000    378.000000  378.000000    378  \n",
       "unique          NaN           NaN         NaN      3  \n",
       "top             NaN           NaN         NaN     US  \n",
       "freq            NaN           NaN         NaN    236  \n",
       "mean    2958.277778     15.520635   76.021164    NaN  \n",
       "std      826.982943      2.461469    3.675797    NaN  \n",
       "min     1613.000000      9.500000   70.000000    NaN  \n",
       "25%     2223.750000     13.925000   73.000000    NaN  \n",
       "50%     2811.000000     15.500000   76.000000    NaN  \n",
       "75%     3573.000000     17.000000   79.000000    NaN  \n",
       "max     5140.000000     21.900000   82.000000    NaN  "
      ]
     },
     "execution_count": 146,
     "metadata": {},
     "output_type": "execute_result"
    }
   ],
   "source": [
    "data.describe(include='all')"
   ]
  },
  {
   "cell_type": "code",
   "execution_count": 84,
   "metadata": {},
   "outputs": [
    {
     "data": {
      "text/plain": [
       "Car             0\n",
       "MPG             0\n",
       "Cylinders       0\n",
       "Displacement    0\n",
       "Horsepower      0\n",
       "Weight          0\n",
       "Acceleration    0\n",
       "Model           0\n",
       "Origin          1\n",
       "dtype: int64"
      ]
     },
     "execution_count": 84,
     "metadata": {},
     "output_type": "execute_result"
    }
   ],
   "source": [
    "#Handling Null value in origin and other features first\n",
    "data.isnull().sum()"
   ]
  },
  {
   "cell_type": "code",
   "execution_count": 87,
   "metadata": {},
   "outputs": [
    {
     "data": {
      "text/plain": [
       "Car             0\n",
       "MPG             0\n",
       "Cylinders       0\n",
       "Displacement    0\n",
       "Horsepower      0\n",
       "Weight          0\n",
       "Acceleration    0\n",
       "Model           0\n",
       "Origin          0\n",
       "dtype: int64"
      ]
     },
     "execution_count": 87,
     "metadata": {},
     "output_type": "execute_result"
    }
   ],
   "source": [
    "data = data.dropna()\n",
    "data.isnull().sum()"
   ]
  },
  {
   "cell_type": "markdown",
   "metadata": {},
   "source": [
    "2.1.1 (8 points) Based on Assignment 8 Correlation Matrix, find four features which\n",
    "have high Pearson's correlation coefficients with Weight. Then, plot the multiple\n",
    "scatter charts to show relationships between Weight and these features in one\n",
    "figure. Briefly explain your observation in the plot"
   ]
  },
  {
   "cell_type": "code",
   "execution_count": 88,
   "metadata": {},
   "outputs": [
    {
     "data": {
      "text/plain": [
       "<Figure size 432x288 with 0 Axes>"
      ]
     },
     "metadata": {},
     "output_type": "display_data"
    },
    {
     "data": {
      "image/png": "[encoded data removed]",
      "text/plain": [
       "<Figure size 1440x1080 with 4 Axes>"
      ]
     },
     "metadata": {
      "needs_background": "light"
     },
     "output_type": "display_data"
    }
   ],
   "source": [
    "f = plt.figure()    \n",
    "f, axes = plt.subplots(nrows = 2, ncols = 2, figsize = (20,15))\n",
    "f.suptitle('Comparing Pairs for Several Features', fontsize=12)\n",
    "\n",
    "axes[0][0].scatter(data.Horsepower, data.Weight,c='orange', marker='o')\n",
    "axes[0][0].set_title('Weight vs Horsepower', fontsize=12)\n",
    "\n",
    "axes[0][1].scatter(data.Displacement, data.Weight,c='yellow', marker='o')\n",
    "axes[0][1].set_title('Weight vs Displacement', fontsize=12)\n",
    "\n",
    "axes[1][0].scatter(data.Cylinders, data.Weight,c='blue', marker='o')\n",
    "axes[1][0].set_title('Weight vs Cylinders', fontsize=12)\n",
    "\n",
    "axes[1][1].scatter(data.MPG, data.Weight,c='green', marker='o')\n",
    "axes[1][1].set_title('Weight vs MPG', fontsize=12)\n",
    "\n",
    "plt.show()"
   ]
  },
  {
   "cell_type": "markdown",
   "metadata": {},
   "source": [
    "# 2.1.2 (22 points) Use Simple Linear Regression (LR) to Build a Model to Predict Weight"
   ]
  },
  {
   "cell_type": "markdown",
   "metadata": {},
   "source": [
    "2.1.2.1 (2 points) Observe the above plots and select ONLY ONE feature to build\n",
    "a simple LR model to predict Weight and briefly explain why you select\n",
    "thisfeature"
   ]
  },
  {
   "cell_type": "markdown",
   "metadata": {},
   "source": [
    "For the Linear Regression Model, we decided to select Horsepower as our predictor variable. We decided on this because the scatter plot clearly shows a strong, positive correlation between the 2 variables."
   ]
  },
  {
   "cell_type": "markdown",
   "metadata": {},
   "source": [
    "2.1.2.2 (3 points) Split the dataset into a training set (80%) and a test set (20%)\n"
   ]
  },
  {
   "cell_type": "code",
   "execution_count": 143,
   "metadata": {},
   "outputs": [
    {
     "name": "stdout",
     "output_type": "stream",
     "text": [
      "(378, 1)\n",
      "(378,)\n"
     ]
    }
   ],
   "source": [
    "#Displacement\n",
    "# y = data['Weight']\n",
    "# x = data[['Displacement']].values\n",
    "\n",
    "# print(x.shape)\n",
    "# print(y.shape)"
   ]
  },
  {
   "cell_type": "code",
   "execution_count": 144,
   "metadata": {},
   "outputs": [
    {
     "name": "stdout",
     "output_type": "stream",
     "text": [
      "Total rows:  378\n",
      "Training rows:  302\n",
      "Testing rows:  76\n"
     ]
    }
   ],
   "source": [
    "# x_train, x_test, y_train, y_test = train_test_split(x,y,test_size=0.2)\n",
    "# print(\"Total rows: \", len(data))\n",
    "# print(\"Training rows: \", len(x_train))\n",
    "# print(\"Testing rows: \", len(x_test))"
   ]
  },
  {
   "cell_type": "code",
   "execution_count": 145,
   "metadata": {},
   "outputs": [
    {
     "name": "stdout",
     "output_type": "stream",
     "text": [
      "Coefficient:  [7.66132821]\n",
      "Y intercept:  1504.7423248584594\n"
     ]
    }
   ],
   "source": [
    "# lin_reg = LinearRegression()\n",
    "# clf = lin_reg.fit(x_train, y_train)\n",
    "# print(\"Coefficient: \", clf.coef_)\n",
    "# print(\"Y intercept: \", clf.intercept_)"
   ]
  },
  {
   "cell_type": "code",
   "execution_count": 89,
   "metadata": {},
   "outputs": [
    {
     "name": "stdout",
     "output_type": "stream",
     "text": [
      "(378, 1)\n",
      "(378,)\n"
     ]
    }
   ],
   "source": [
    "y = data['Weight']\n",
    "x = data[['Horsepower']].values\n",
    "\n",
    "print(x.shape)\n",
    "print(y.shape)"
   ]
  },
  {
   "cell_type": "code",
   "execution_count": 90,
   "metadata": {},
   "outputs": [
    {
     "name": "stdout",
     "output_type": "stream",
     "text": [
      "Total rows:  378\n",
      "Training rows:  302\n",
      "Testing rows:  76\n"
     ]
    }
   ],
   "source": [
    "x_train, x_test, y_train, y_test = train_test_split(x,y,test_size=0.2)\n",
    "print(\"Total rows: \", len(data))\n",
    "print(\"Training rows: \", len(x_train))\n",
    "print(\"Testing rows: \", len(x_test))"
   ]
  },
  {
   "cell_type": "markdown",
   "metadata": {},
   "source": [
    "2.1.2.3 (4 points) Build a LR model to find details (i.e., intercept and slope) of the\n",
    "relationship between Weight and this feature."
   ]
  },
  {
   "cell_type": "code",
   "execution_count": 91,
   "metadata": {},
   "outputs": [
    {
     "name": "stdout",
     "output_type": "stream",
     "text": [
      "Coefficient:  [20.97799687]\n",
      "Y intercept:  820.3815403854715\n"
     ]
    }
   ],
   "source": [
    "lin_reg = LinearRegression()\n",
    "clf = lin_reg.fit(x_train, y_train)\n",
    "print(\"Coefficient: \", clf.coef_)\n",
    "print(\"Y intercept: \", clf.intercept_)"
   ]
  },
  {
   "cell_type": "markdown",
   "metadata": {},
   "source": [
    "2.1.2.4 (3 points) Use the test set to make prediction and print out Root Mean\n",
    "Squared Error (RMSE)."
   ]
  },
  {
   "cell_type": "code",
   "execution_count": 92,
   "metadata": {},
   "outputs": [
    {
     "name": "stdout",
     "output_type": "stream",
     "text": [
      "Linear Regression RMSE: 346.284746\n"
     ]
    }
   ],
   "source": [
    "predict = lin_reg.predict(x_test)\n",
    "rmse = np.sqrt(mean_squared_error(y_test, predict))\n",
    "print(\"Linear Regression RMSE: %f\" % (rmse))"
   ]
  },
  {
   "cell_type": "markdown",
   "metadata": {},
   "source": [
    "2.1.2.5 (10 points) Plot the predicted straight line with the test data and briefly\n",
    "explain your observation in the plot."
   ]
  },
  {
   "cell_type": "code",
   "execution_count": 93,
   "metadata": {},
   "outputs": [
    {
     "data": {
      "text/plain": [
       "[<matplotlib.lines.Line2D at 0x279a056ab20>]"
      ]
     },
     "execution_count": 93,
     "metadata": {},
     "output_type": "execute_result"
    },
    {
     "data": {
      "image/png": "[encoded data removed]",
      "text/plain": [
       "<Figure size 432x288 with 1 Axes>"
      ]
     },
     "metadata": {
      "needs_background": "light"
     },
     "output_type": "display_data"
    }
   ],
   "source": [
    "plt.scatter(x_train, y_train,c='orange')\n",
    "predictions = np.dot(x_train, clf.coef_)\n",
    "\n",
    "for index in range(len(predictions)):\n",
    "    predictions[index] = predictions[index] + clf.intercept_\n",
    "    \n",
    "plt.plot(x_train, predictions,c='blue')"
   ]
  },
  {
   "cell_type": "markdown",
   "metadata": {},
   "source": [
    "As we can see in the above graph, there is a strong linear, and positive correlation between the predictor variable Horsepower and the target variable Weight. As the Horsepower of a car increases, so does the Weight of the same"
   ]
  },
  {
   "cell_type": "markdown",
   "metadata": {},
   "source": [
    "# 2.2 Clustering (20 points)"
   ]
  },
  {
   "cell_type": "markdown",
   "metadata": {},
   "source": [
    "2.2.1 (5 points) Use K-means Clustering algorithm to find groups between\n",
    "Horsepower and Weight. Use number of clusters as 3. Plot clustered groups with\n",
    "scatter charts"
   ]
  },
  {
   "cell_type": "code",
   "execution_count": 94,
   "metadata": {},
   "outputs": [
    {
     "data": {
      "image/png": "[encoded data removed]",
      "text/plain": [
       "<Figure size 432x288 with 1 Axes>"
      ]
     },
     "metadata": {
      "needs_background": "light"
     },
     "output_type": "display_data"
    }
   ],
   "source": [
    "df = DataFrame(data, columns = ['Horsepower', 'Weight'])\n",
    "kmeans = KMeans(n_clusters = 3).fit(df)\n",
    "centroids = kmeans.cluster_centers_\n",
    "\n",
    "plt.scatter(df['Horsepower'], df['Weight'], c = kmeans.labels_.astype(float))\n",
    "plt.scatter(centroids[:,0], centroids[:,1], c='red')\n",
    "plt.show()"
   ]
  },
  {
   "cell_type": "markdown",
   "metadata": {},
   "source": [
    "2.2.2.1 (10 points) Use K-means Clustering algorithm (k=4) to find groups using\n",
    "different numbers of the features:\n",
    "▪ 'Cylinders' and 'Displacement'\n",
    "▪ 'Cylinders', 'Displacement', 'Weight', 'Horsepower', 'MPG'\n",
    "Then visualize two clustered groups with scatter charts only using Cylinders and\n",
    "Displacement features."
   ]
  },
  {
   "cell_type": "code",
   "execution_count": 95,
   "metadata": {},
   "outputs": [
    {
     "data": {
      "text/plain": [
       "<Figure size 432x288 with 0 Axes>"
      ]
     },
     "metadata": {},
     "output_type": "display_data"
    },
    {
     "data": {
      "image/png": "[encoded data removed]",
      "text/plain": [
       "<Figure size 1080x360 with 2 Axes>"
      ]
     },
     "metadata": {
      "needs_background": "light"
     },
     "output_type": "display_data"
    }
   ],
   "source": [
    "#Cylinders and Displacement\n",
    "df = DataFrame(data, columns = ['Cylinders', 'Displacement'])\n",
    "kmeans = KMeans(n_clusters = 4).fit(df)\n",
    "centroids = kmeans.cluster_centers_\n",
    "\n",
    "#Cylinders, Displacement, Weight, Horsepower, MPG\n",
    "df2 = DataFrame(data, columns = ['Cylinders', 'Displacement', 'Weight', 'Horsepower', 'MPG'])\n",
    "kmeans2 = KMeans(n_clusters = 4).fit(df2)\n",
    "centroids2 = kmeans2.cluster_centers_\n",
    "\n",
    "\n",
    "f = plt.figure()    \n",
    "f, axes = plt.subplots(ncols = 2, figsize = (15,5))\n",
    "f.suptitle('K-Means for Several Features', fontsize=12)\n",
    "\n",
    "axes[0].scatter(df['Cylinders'], df['Displacement'], c = kmeans.labels_.astype(float))\n",
    "axes[0].scatter(centroids[:,0], centroids[:,1], c='red')\n",
    "\n",
    "axes[1].scatter(df2['Cylinders'], df2['Displacement'], c = kmeans2.labels_.astype(float))\n",
    "axes[1].scatter(centroids2[:,0], centroids2[:,1], c='red')\n",
    "\n",
    "\n",
    "\n",
    "plt.show()\n"
   ]
  },
  {
   "cell_type": "markdown",
   "metadata": {},
   "source": [
    "2.2.2.2 (5 points) Observe the above plots and compare each other. Explain how\n",
    "each plot is different from other in terms of cylinders representing those groups."
   ]
  },
  {
   "cell_type": "markdown",
   "metadata": {},
   "source": [
    "TODO: EXPLAIN\n",
    "Difference location of centroids from left to right, right one having a value closer to 7, suggesting some overfitting of the test data"
   ]
  },
  {
   "cell_type": "markdown",
   "metadata": {},
   "source": [
    "# 2.3 Classification (27 points)\n"
   ]
  },
  {
   "cell_type": "markdown",
   "metadata": {},
   "source": [
    "2.3.1.1 (5 points) Use KNN Classifier to classify ‘Origin’ with all numeric features.\n",
    "Print the model accuracy score and confusion matrix"
   ]
  },
  {
   "cell_type": "code",
   "execution_count": 96,
   "metadata": {},
   "outputs": [
    {
     "name": "stdout",
     "output_type": "stream",
     "text": [
      "(378, 8)\n",
      "(378,)\n"
     ]
    }
   ],
   "source": [
    "y = data.iloc[:,-1]\n",
    "x = data.iloc[:,:-1]\n",
    "\n",
    "print(x.shape)\n",
    "print(y.shape)"
   ]
  },
  {
   "cell_type": "code",
   "execution_count": 97,
   "metadata": {},
   "outputs": [
    {
     "data": {
      "text/html": [
       "<div>\n",
       "<style scoped>\n",
       "    .dataframe tbody tr th:only-of-type {\n",
       "        vertical-align: middle;\n",
       "    }\n",
       "\n",
       "    .dataframe tbody tr th {\n",
       "        vertical-align: top;\n",
       "    }\n",
       "\n",
       "    .dataframe thead th {\n",
       "        text-align: right;\n",
       "    }\n",
       "</style>\n",
       "<table border=\"1\" class=\"dataframe\">\n",
       "  <thead>\n",
       "    <tr style=\"text-align: right;\">\n",
       "      <th></th>\n",
       "      <th>Car</th>\n",
       "      <th>MPG</th>\n",
       "      <th>Cylinders</th>\n",
       "      <th>Displacement</th>\n",
       "      <th>Horsepower</th>\n",
       "      <th>Weight</th>\n",
       "      <th>Acceleration</th>\n",
       "      <th>Model</th>\n",
       "    </tr>\n",
       "  </thead>\n",
       "  <tbody>\n",
       "    <tr>\n",
       "      <th>0</th>\n",
       "      <td>Chevrolet Chevelle Malibu</td>\n",
       "      <td>18.0</td>\n",
       "      <td>8.0</td>\n",
       "      <td>307.0</td>\n",
       "      <td>130.0</td>\n",
       "      <td>3504.0</td>\n",
       "      <td>12.0</td>\n",
       "      <td>70.0</td>\n",
       "    </tr>\n",
       "    <tr>\n",
       "      <th>1</th>\n",
       "      <td>Buick Skylark 320</td>\n",
       "      <td>15.0</td>\n",
       "      <td>8.0</td>\n",
       "      <td>350.0</td>\n",
       "      <td>165.0</td>\n",
       "      <td>3693.0</td>\n",
       "      <td>11.5</td>\n",
       "      <td>70.0</td>\n",
       "    </tr>\n",
       "    <tr>\n",
       "      <th>2</th>\n",
       "      <td>Plymouth Satellite</td>\n",
       "      <td>18.0</td>\n",
       "      <td>8.0</td>\n",
       "      <td>318.0</td>\n",
       "      <td>150.0</td>\n",
       "      <td>3436.0</td>\n",
       "      <td>11.0</td>\n",
       "      <td>70.0</td>\n",
       "    </tr>\n",
       "    <tr>\n",
       "      <th>3</th>\n",
       "      <td>AMC Rebel SST</td>\n",
       "      <td>16.0</td>\n",
       "      <td>8.0</td>\n",
       "      <td>304.0</td>\n",
       "      <td>150.0</td>\n",
       "      <td>3433.0</td>\n",
       "      <td>12.0</td>\n",
       "      <td>70.0</td>\n",
       "    </tr>\n",
       "    <tr>\n",
       "      <th>4</th>\n",
       "      <td>Ford Torino</td>\n",
       "      <td>17.0</td>\n",
       "      <td>8.0</td>\n",
       "      <td>302.0</td>\n",
       "      <td>140.0</td>\n",
       "      <td>3449.0</td>\n",
       "      <td>10.5</td>\n",
       "      <td>70.0</td>\n",
       "    </tr>\n",
       "  </tbody>\n",
       "</table>\n",
       "</div>"
      ],
      "text/plain": [
       "                         Car   MPG  Cylinders  Displacement  Horsepower  \\\n",
       "0  Chevrolet Chevelle Malibu  18.0        8.0         307.0       130.0   \n",
       "1          Buick Skylark 320  15.0        8.0         350.0       165.0   \n",
       "2         Plymouth Satellite  18.0        8.0         318.0       150.0   \n",
       "3              AMC Rebel SST  16.0        8.0         304.0       150.0   \n",
       "4                Ford Torino  17.0        8.0         302.0       140.0   \n",
       "\n",
       "   Weight  Acceleration  Model  \n",
       "0  3504.0          12.0   70.0  \n",
       "1  3693.0          11.5   70.0  \n",
       "2  3436.0          11.0   70.0  \n",
       "3  3433.0          12.0   70.0  \n",
       "4  3449.0          10.5   70.0  "
      ]
     },
     "execution_count": 97,
     "metadata": {},
     "output_type": "execute_result"
    }
   ],
   "source": [
    "x.head()"
   ]
  },
  {
   "cell_type": "code",
   "execution_count": 98,
   "metadata": {},
   "outputs": [
    {
     "data": {
      "text/html": [
       "<div>\n",
       "<style scoped>\n",
       "    .dataframe tbody tr th:only-of-type {\n",
       "        vertical-align: middle;\n",
       "    }\n",
       "\n",
       "    .dataframe tbody tr th {\n",
       "        vertical-align: top;\n",
       "    }\n",
       "\n",
       "    .dataframe thead th {\n",
       "        text-align: right;\n",
       "    }\n",
       "</style>\n",
       "<table border=\"1\" class=\"dataframe\">\n",
       "  <thead>\n",
       "    <tr style=\"text-align: right;\">\n",
       "      <th></th>\n",
       "      <th>MPG</th>\n",
       "      <th>Cylinders</th>\n",
       "      <th>Displacement</th>\n",
       "      <th>Horsepower</th>\n",
       "      <th>Weight</th>\n",
       "      <th>Acceleration</th>\n",
       "      <th>Model</th>\n",
       "    </tr>\n",
       "  </thead>\n",
       "  <tbody>\n",
       "    <tr>\n",
       "      <th>0</th>\n",
       "      <td>18.0</td>\n",
       "      <td>8.0</td>\n",
       "      <td>307.0</td>\n",
       "      <td>130.0</td>\n",
       "      <td>3504.0</td>\n",
       "      <td>12.0</td>\n",
       "      <td>70.0</td>\n",
       "    </tr>\n",
       "    <tr>\n",
       "      <th>1</th>\n",
       "      <td>15.0</td>\n",
       "      <td>8.0</td>\n",
       "      <td>350.0</td>\n",
       "      <td>165.0</td>\n",
       "      <td>3693.0</td>\n",
       "      <td>11.5</td>\n",
       "      <td>70.0</td>\n",
       "    </tr>\n",
       "    <tr>\n",
       "      <th>2</th>\n",
       "      <td>18.0</td>\n",
       "      <td>8.0</td>\n",
       "      <td>318.0</td>\n",
       "      <td>150.0</td>\n",
       "      <td>3436.0</td>\n",
       "      <td>11.0</td>\n",
       "      <td>70.0</td>\n",
       "    </tr>\n",
       "    <tr>\n",
       "      <th>3</th>\n",
       "      <td>16.0</td>\n",
       "      <td>8.0</td>\n",
       "      <td>304.0</td>\n",
       "      <td>150.0</td>\n",
       "      <td>3433.0</td>\n",
       "      <td>12.0</td>\n",
       "      <td>70.0</td>\n",
       "    </tr>\n",
       "    <tr>\n",
       "      <th>4</th>\n",
       "      <td>17.0</td>\n",
       "      <td>8.0</td>\n",
       "      <td>302.0</td>\n",
       "      <td>140.0</td>\n",
       "      <td>3449.0</td>\n",
       "      <td>10.5</td>\n",
       "      <td>70.0</td>\n",
       "    </tr>\n",
       "  </tbody>\n",
       "</table>\n",
       "</div>"
      ],
      "text/plain": [
       "    MPG  Cylinders  Displacement  Horsepower  Weight  Acceleration  Model\n",
       "0  18.0        8.0         307.0       130.0  3504.0          12.0   70.0\n",
       "1  15.0        8.0         350.0       165.0  3693.0          11.5   70.0\n",
       "2  18.0        8.0         318.0       150.0  3436.0          11.0   70.0\n",
       "3  16.0        8.0         304.0       150.0  3433.0          12.0   70.0\n",
       "4  17.0        8.0         302.0       140.0  3449.0          10.5   70.0"
      ]
     },
     "execution_count": 98,
     "metadata": {},
     "output_type": "execute_result"
    }
   ],
   "source": [
    "x = x.drop(['Car'], axis=1)\n",
    "x.head()"
   ]
  },
  {
   "cell_type": "code",
   "execution_count": 99,
   "metadata": {},
   "outputs": [
    {
     "name": "stdout",
     "output_type": "stream",
     "text": [
      "Total rows:  378\n",
      "Training rows:  302\n",
      "Testing rows:  76\n"
     ]
    }
   ],
   "source": [
    "x_train, x_test, y_train, y_test = train_test_split(x,y,test_size=0.2)\n",
    "print(\"Total rows: \", len(data))\n",
    "print(\"Training rows: \", len(x_train))\n",
    "print(\"Testing rows: \", len(x_test))"
   ]
  },
  {
   "cell_type": "code",
   "execution_count": 100,
   "metadata": {},
   "outputs": [],
   "source": [
    "knn = KNeighborsClassifier(n_neighbors=3)\n",
    "knn.fit(x_train, y_train)\n",
    "pred = knn.predict(x_test)"
   ]
  },
  {
   "cell_type": "code",
   "execution_count": 102,
   "metadata": {},
   "outputs": [
    {
     "name": "stdout",
     "output_type": "stream",
     "text": [
      "\n",
      "Model accuracy score:  0.6052631578947368\n",
      "\n",
      "Confusion Matrix\n",
      " [[ 2  7  7]\n",
      " [ 6  6  4]\n",
      " [ 1  5 38]]\n"
     ]
    }
   ],
   "source": [
    "print('\\nModel accuracy score: ', accuracy_score(y_test, pred))\n",
    "print('\\nConfusion Matrix\\n', confusion_matrix(y_test, pred))"
   ]
  },
  {
   "cell_type": "markdown",
   "metadata": {},
   "source": [
    "2.3.1.2 (3 points) Observe the correlation matrix. Remove some features with\n",
    "high correlations (> around 0.9, e.g., Cylinders, weight) to Displacement\n",
    "and then apply KNN classifier to classify ‘Origin’ with the rest of numeric\n",
    "features. Print the model accuracy score and confusion matrix."
   ]
  },
  {
   "cell_type": "code",
   "execution_count": 103,
   "metadata": {},
   "outputs": [
    {
     "data": {
      "text/html": [
       "<div>\n",
       "<style scoped>\n",
       "    .dataframe tbody tr th:only-of-type {\n",
       "        vertical-align: middle;\n",
       "    }\n",
       "\n",
       "    .dataframe tbody tr th {\n",
       "        vertical-align: top;\n",
       "    }\n",
       "\n",
       "    .dataframe thead th {\n",
       "        text-align: right;\n",
       "    }\n",
       "</style>\n",
       "<table border=\"1\" class=\"dataframe\">\n",
       "  <thead>\n",
       "    <tr style=\"text-align: right;\">\n",
       "      <th></th>\n",
       "      <th>MPG</th>\n",
       "      <th>Displacement</th>\n",
       "      <th>Horsepower</th>\n",
       "      <th>Weight</th>\n",
       "      <th>Acceleration</th>\n",
       "      <th>Model</th>\n",
       "    </tr>\n",
       "  </thead>\n",
       "  <tbody>\n",
       "    <tr>\n",
       "      <th>0</th>\n",
       "      <td>18.0</td>\n",
       "      <td>307.0</td>\n",
       "      <td>130.0</td>\n",
       "      <td>3504.0</td>\n",
       "      <td>12.0</td>\n",
       "      <td>70.0</td>\n",
       "    </tr>\n",
       "    <tr>\n",
       "      <th>1</th>\n",
       "      <td>15.0</td>\n",
       "      <td>350.0</td>\n",
       "      <td>165.0</td>\n",
       "      <td>3693.0</td>\n",
       "      <td>11.5</td>\n",
       "      <td>70.0</td>\n",
       "    </tr>\n",
       "    <tr>\n",
       "      <th>2</th>\n",
       "      <td>18.0</td>\n",
       "      <td>318.0</td>\n",
       "      <td>150.0</td>\n",
       "      <td>3436.0</td>\n",
       "      <td>11.0</td>\n",
       "      <td>70.0</td>\n",
       "    </tr>\n",
       "    <tr>\n",
       "      <th>3</th>\n",
       "      <td>16.0</td>\n",
       "      <td>304.0</td>\n",
       "      <td>150.0</td>\n",
       "      <td>3433.0</td>\n",
       "      <td>12.0</td>\n",
       "      <td>70.0</td>\n",
       "    </tr>\n",
       "    <tr>\n",
       "      <th>4</th>\n",
       "      <td>17.0</td>\n",
       "      <td>302.0</td>\n",
       "      <td>140.0</td>\n",
       "      <td>3449.0</td>\n",
       "      <td>10.5</td>\n",
       "      <td>70.0</td>\n",
       "    </tr>\n",
       "  </tbody>\n",
       "</table>\n",
       "</div>"
      ],
      "text/plain": [
       "    MPG  Displacement  Horsepower  Weight  Acceleration  Model\n",
       "0  18.0         307.0       130.0  3504.0          12.0   70.0\n",
       "1  15.0         350.0       165.0  3693.0          11.5   70.0\n",
       "2  18.0         318.0       150.0  3436.0          11.0   70.0\n",
       "3  16.0         304.0       150.0  3433.0          12.0   70.0\n",
       "4  17.0         302.0       140.0  3449.0          10.5   70.0"
      ]
     },
     "execution_count": 103,
     "metadata": {},
     "output_type": "execute_result"
    }
   ],
   "source": [
    "x = x.drop(['Cylinders'], axis=1)\n",
    "x.head()"
   ]
  },
  {
   "cell_type": "code",
   "execution_count": 104,
   "metadata": {},
   "outputs": [
    {
     "data": {
      "text/html": [
       "<div>\n",
       "<style scoped>\n",
       "    .dataframe tbody tr th:only-of-type {\n",
       "        vertical-align: middle;\n",
       "    }\n",
       "\n",
       "    .dataframe tbody tr th {\n",
       "        vertical-align: top;\n",
       "    }\n",
       "\n",
       "    .dataframe thead th {\n",
       "        text-align: right;\n",
       "    }\n",
       "</style>\n",
       "<table border=\"1\" class=\"dataframe\">\n",
       "  <thead>\n",
       "    <tr style=\"text-align: right;\">\n",
       "      <th></th>\n",
       "      <th>MPG</th>\n",
       "      <th>Displacement</th>\n",
       "      <th>Horsepower</th>\n",
       "      <th>Acceleration</th>\n",
       "      <th>Model</th>\n",
       "    </tr>\n",
       "  </thead>\n",
       "  <tbody>\n",
       "    <tr>\n",
       "      <th>0</th>\n",
       "      <td>18.0</td>\n",
       "      <td>307.0</td>\n",
       "      <td>130.0</td>\n",
       "      <td>12.0</td>\n",
       "      <td>70.0</td>\n",
       "    </tr>\n",
       "    <tr>\n",
       "      <th>1</th>\n",
       "      <td>15.0</td>\n",
       "      <td>350.0</td>\n",
       "      <td>165.0</td>\n",
       "      <td>11.5</td>\n",
       "      <td>70.0</td>\n",
       "    </tr>\n",
       "    <tr>\n",
       "      <th>2</th>\n",
       "      <td>18.0</td>\n",
       "      <td>318.0</td>\n",
       "      <td>150.0</td>\n",
       "      <td>11.0</td>\n",
       "      <td>70.0</td>\n",
       "    </tr>\n",
       "    <tr>\n",
       "      <th>3</th>\n",
       "      <td>16.0</td>\n",
       "      <td>304.0</td>\n",
       "      <td>150.0</td>\n",
       "      <td>12.0</td>\n",
       "      <td>70.0</td>\n",
       "    </tr>\n",
       "    <tr>\n",
       "      <th>4</th>\n",
       "      <td>17.0</td>\n",
       "      <td>302.0</td>\n",
       "      <td>140.0</td>\n",
       "      <td>10.5</td>\n",
       "      <td>70.0</td>\n",
       "    </tr>\n",
       "  </tbody>\n",
       "</table>\n",
       "</div>"
      ],
      "text/plain": [
       "    MPG  Displacement  Horsepower  Acceleration  Model\n",
       "0  18.0         307.0       130.0          12.0   70.0\n",
       "1  15.0         350.0       165.0          11.5   70.0\n",
       "2  18.0         318.0       150.0          11.0   70.0\n",
       "3  16.0         304.0       150.0          12.0   70.0\n",
       "4  17.0         302.0       140.0          10.5   70.0"
      ]
     },
     "execution_count": 104,
     "metadata": {},
     "output_type": "execute_result"
    }
   ],
   "source": [
    "x = x.drop(['Weight'], axis=1)\n",
    "x.head()"
   ]
  },
  {
   "cell_type": "code",
   "execution_count": 105,
   "metadata": {},
   "outputs": [
    {
     "name": "stdout",
     "output_type": "stream",
     "text": [
      "Total rows:  378\n",
      "Training rows:  302\n",
      "Testing rows:  76\n"
     ]
    }
   ],
   "source": [
    "x_train, x_test, y_train, y_test = train_test_split(x,y,test_size=0.2)\n",
    "print(\"Total rows: \", len(data))\n",
    "print(\"Training rows: \", len(x_train))\n",
    "print(\"Testing rows: \", len(x_test))"
   ]
  },
  {
   "cell_type": "code",
   "execution_count": 106,
   "metadata": {},
   "outputs": [],
   "source": [
    "knn = KNeighborsClassifier(n_neighbors=3)\n",
    "knn.fit(x_train, y_train)\n",
    "pred = knn.predict(x_test)"
   ]
  },
  {
   "cell_type": "code",
   "execution_count": 107,
   "metadata": {},
   "outputs": [
    {
     "name": "stdout",
     "output_type": "stream",
     "text": [
      "\n",
      "Model accuracy score:  0.8026315789473685\n",
      "\n",
      "Confusion Matrix\n",
      " [[ 4  5  3]\n",
      " [ 1 12  2]\n",
      " [ 2  2 45]]\n"
     ]
    }
   ],
   "source": [
    "print('\\nModel accuracy score: ', accuracy_score(y_test, pred))\n",
    "print('\\nConfusion Matrix\\n', confusion_matrix(y_test, pred))"
   ]
  },
  {
   "cell_type": "markdown",
   "metadata": {},
   "source": [
    "2.3.1.3 (2 points) Compare two metrics for 2.3.1.1 and 2.3.1.2. What can you\n",
    "find? Please explain."
   ]
  },
  {
   "cell_type": "markdown",
   "metadata": {},
   "source": [
    "TODO EXPLAIN\n",
    "Higher correlation when removing higher correlated variables to Displacement (Weight and Cylinders) "
   ]
  },
  {
   "cell_type": "markdown",
   "metadata": {},
   "source": [
    "# 2.3.2 (12 points) KNN Classification for ‘Cylinders’"
   ]
  },
  {
   "cell_type": "markdown",
   "metadata": {},
   "source": [
    "2.3.2.1 (5 points) Use KNN Classifier to classify ‘Cylinders’ with all numeric\n",
    "features. Print the model accuracy score and confusion matrix"
   ]
  },
  {
   "cell_type": "code",
   "execution_count": 128,
   "metadata": {},
   "outputs": [
    {
     "name": "stdout",
     "output_type": "stream",
     "text": [
      "(378, 6)\n",
      "(378,)\n"
     ]
    }
   ],
   "source": [
    "y = data['Cylinders']\n",
    "x = data[['MPG', 'Displacement', 'Horsepower', 'Weight', 'Acceleration', 'Model']]\n",
    "\n",
    "print(x.shape)\n",
    "print(y.shape)"
   ]
  },
  {
   "cell_type": "code",
   "execution_count": 129,
   "metadata": {},
   "outputs": [
    {
     "name": "stdout",
     "output_type": "stream",
     "text": [
      "Total rows:  378\n",
      "Training rows:  302\n",
      "Testing rows:  76\n"
     ]
    }
   ],
   "source": [
    "x_train, x_test, y_train, y_test = train_test_split(x,y,test_size=0.2)\n",
    "print(\"Total rows: \", len(data))\n",
    "print(\"Training rows: \", len(x_train))\n",
    "print(\"Testing rows: \", len(x_test))"
   ]
  },
  {
   "cell_type": "code",
   "execution_count": 130,
   "metadata": {},
   "outputs": [],
   "source": [
    "knn = KNeighborsClassifier(n_neighbors=3)\n",
    "knn.fit(x_train, y_train)\n",
    "pred = knn.predict(x_test)"
   ]
  },
  {
   "cell_type": "code",
   "execution_count": 131,
   "metadata": {},
   "outputs": [
    {
     "name": "stdout",
     "output_type": "stream",
     "text": [
      "\n",
      "Model accuracy score:  0.8947368421052632\n",
      "\n",
      "Confusion Matrix\n",
      " [[40  0  1  0]\n",
      " [ 0  0  1  0]\n",
      " [ 2  0 12  1]\n",
      " [ 0  0  3 16]]\n"
     ]
    }
   ],
   "source": [
    "print('\\nModel accuracy score: ', accuracy_score(y_test, pred))\n",
    "print('\\nConfusion Matrix\\n', confusion_matrix(y_test, pred))"
   ]
  },
  {
   "cell_type": "markdown",
   "metadata": {},
   "source": [
    "2.3.2.2 (3 points) Observe the correlation matrix. Selected features with top two\n",
    "highest correlations with Cylinders (e.g., Displacement, Horsepower) to\n",
    "classify Cylinders using KNN classifier. Print the model accuracy score and\n",
    "confusion matrix."
   ]
  },
  {
   "cell_type": "code",
   "execution_count": 132,
   "metadata": {},
   "outputs": [
    {
     "name": "stdout",
     "output_type": "stream",
     "text": [
      "(378, 2)\n",
      "(378,)\n"
     ]
    }
   ],
   "source": [
    "#Using only Displacement and Horsepower (High correlation) to classify Cylinders\n",
    "y = data['Cylinders']\n",
    "x = data[['Displacement', 'Horsepower']]\n",
    "\n",
    "print(x.shape)\n",
    "print(y.shape)"
   ]
  },
  {
   "cell_type": "code",
   "execution_count": 133,
   "metadata": {},
   "outputs": [
    {
     "name": "stdout",
     "output_type": "stream",
     "text": [
      "Total rows:  378\n",
      "Training rows:  302\n",
      "Testing rows:  76\n"
     ]
    }
   ],
   "source": [
    "x_train, x_test, y_train, y_test = train_test_split(x,y,test_size=0.2)\n",
    "print(\"Total rows: \", len(data))\n",
    "print(\"Training rows: \", len(x_train))\n",
    "print(\"Testing rows: \", len(x_test))"
   ]
  },
  {
   "cell_type": "code",
   "execution_count": 134,
   "metadata": {},
   "outputs": [],
   "source": [
    "knn = KNeighborsClassifier(n_neighbors=3)\n",
    "knn.fit(x_train, y_train)\n",
    "pred = knn.predict(x_test)"
   ]
  },
  {
   "cell_type": "code",
   "execution_count": 135,
   "metadata": {},
   "outputs": [
    {
     "name": "stdout",
     "output_type": "stream",
     "text": [
      "\n",
      "Model accuracy score:  0.9605263157894737\n",
      "\n",
      "Confusion Matrix\n",
      " [[41  0  0  0]\n",
      " [ 1  0  0  0]\n",
      " [ 2  0 15  0]\n",
      " [ 0  0  0 17]]\n"
     ]
    }
   ],
   "source": [
    "print('\\nModel accuracy score: ', accuracy_score(y_test, pred))\n",
    "print('\\nConfusion Matrix\\n', confusion_matrix(y_test, pred))"
   ]
  },
  {
   "cell_type": "markdown",
   "metadata": {},
   "source": [
    "2.3.2.3 (2 points) Selected a few features with lower correlations with Cylinders\n",
    "(e.g., Acceleration, Model) to classify Cylinders using KNN classifier. Print\n",
    "the model accuracy score and confusion matrix"
   ]
  },
  {
   "cell_type": "code",
   "execution_count": 136,
   "metadata": {},
   "outputs": [
    {
     "name": "stdout",
     "output_type": "stream",
     "text": [
      "(378, 2)\n",
      "(378,)\n"
     ]
    }
   ],
   "source": [
    "#Using only Acceleration and Model (low correlation) to classify Cylinders\n",
    "y = data['Cylinders']\n",
    "x = data[['Acceleration', 'Model']]\n",
    "\n",
    "print(x.shape)\n",
    "print(y.shape)"
   ]
  },
  {
   "cell_type": "code",
   "execution_count": 137,
   "metadata": {},
   "outputs": [
    {
     "name": "stdout",
     "output_type": "stream",
     "text": [
      "Total rows:  378\n",
      "Training rows:  302\n",
      "Testing rows:  76\n"
     ]
    }
   ],
   "source": [
    "x_train, x_test, y_train, y_test = train_test_split(x,y,test_size=0.2)\n",
    "print(\"Total rows: \", len(data))\n",
    "print(\"Training rows: \", len(x_train))\n",
    "print(\"Testing rows: \", len(x_test))"
   ]
  },
  {
   "cell_type": "code",
   "execution_count": 138,
   "metadata": {},
   "outputs": [],
   "source": [
    "knn = KNeighborsClassifier(n_neighbors=3)\n",
    "knn.fit(x_train, y_train)\n",
    "pred = knn.predict(x_test)"
   ]
  },
  {
   "cell_type": "code",
   "execution_count": 139,
   "metadata": {},
   "outputs": [
    {
     "name": "stdout",
     "output_type": "stream",
     "text": [
      "\n",
      "Model accuracy score:  0.6052631578947368\n",
      "\n",
      "Confusion Matrix\n",
      " [[ 0  0  0  0  0]\n",
      " [ 1 29  1 10  5]\n",
      " [ 0  0  0  0  0]\n",
      " [ 1  4  0  4  3]\n",
      " [ 0  4  0  1 13]]\n"
     ]
    }
   ],
   "source": [
    "print('\\nModel accuracy score: ', accuracy_score(y_test, pred))\n",
    "print('\\nConfusion Matrix\\n', confusion_matrix(y_test, pred))"
   ]
  },
  {
   "cell_type": "markdown",
   "metadata": {},
   "source": [
    "2.3.2.4 (2 points) Compare two metrics for 2.3.2.1, 2.3.2.2, and 2.3.2.3. What\n",
    "can you find? Please explain."
   ]
  },
  {
   "cell_type": "markdown",
   "metadata": {},
   "source": [
    "TODO EXPLAIN\n",
    "Higher correlated, more accurate\n",
    "Less correlated, less accurate\n",
    "More variables, in the middle in terms of accuracy"
   ]
  },
  {
   "cell_type": "markdown",
   "metadata": {},
   "source": [
    "2.3.3 (5 points) Compare with 2.3.1 and 2.3.2. What can you find? Please clearly\n",
    "explain in the notebook."
   ]
  },
  {
   "cell_type": "markdown",
   "metadata": {},
   "source": [
    "TODO EXPLAIN\n",
    "Origin vs Cylinders - Cylinders is easier to classify since there is a clear correlation with certain variables"
   ]
  }
 ],
 "metadata": {
  "kernelspec": {
   "display_name": "Python 3",
   "language": "python",
   "name": "python3"
  },
  "language_info": {
   "codemirror_mode": {
    "name": "ipython",
    "version": 3
   },
   "file_extension": ".py",
   "mimetype": "text/x-python",
   "name": "python",
   "nbconvert_exporter": "python",
   "pygments_lexer": "ipython3",
   "version": "3.8.5"
  }
 },
 "nbformat": 4,
 "nbformat_minor": 4
}
