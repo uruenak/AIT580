{
 "cells": [
  {
   "cell_type": "code",
   "execution_count": 138,
   "metadata": {},
   "outputs": [],
   "source": [
    "# Imports\n",
    "\n",
    "# pandas\n",
    "import pandas as pd\n",
    "from pandas import Series,DataFrame\n",
    "\n",
    "# for data encoding\n",
    "\n",
    "from sklearn.preprocessing import LabelEncoder\n",
    "from sklearn.preprocessing import OneHotEncoder\n",
    "from sklearn.compose import ColumnTransformer\n",
    "\n",
    "# numpy, matplotlib, seaborn\n",
    "import numpy as np\n",
    "import matplotlib.pyplot as plt\n",
    "import seaborn as sns\n",
    "\n",
    "# machine learning\n",
    "from sklearn.ensemble import RandomForestClassifier,GradientBoostingClassifier\n",
    "from sklearn.model_selection import train_test_split\n",
    "from sklearn.metrics import accuracy_score\n",
    "from sklearn.metrics import confusion_matrix\n",
    "from sklearn.model_selection import GridSearchCV"
   ]
  },
  {
   "cell_type": "markdown",
   "metadata": {},
   "source": [
    "## Import Data and Encode it"
   ]
  },
  {
   "cell_type": "code",
   "execution_count": 139,
   "metadata": {},
   "outputs": [],
   "source": [
    "data = pd.read_csv('NIJ_s_Recidivism_Challenge_Training_Dataset.csv')"
   ]
  },
  {
   "cell_type": "code",
   "execution_count": 140,
   "metadata": {},
   "outputs": [],
   "source": [
    "df = pd.DataFrame(data)"
   ]
  },
  {
   "cell_type": "code",
   "execution_count": 141,
   "metadata": {},
   "outputs": [
    {
     "data": {
      "text/plain": [
       "ID                                                     int64\n",
       "Gender                                                object\n",
       "Race                                                  object\n",
       "Age_at_Release                                        object\n",
       "Residence_PUMA                                         int64\n",
       "Gang_Affiliated                                       object\n",
       "Supervision_Risk_Score_First                         float64\n",
       "Supervision_Level_First                               object\n",
       "Education_Level                                       object\n",
       "Dependents                                            object\n",
       "Prison_Offense                                        object\n",
       "Prison_Years                                          object\n",
       "Prior_Arrest_Episodes_Felony                          object\n",
       "Prior_Arrest_Episodes_Misd                            object\n",
       "Prior_Arrest_Episodes_Violent                         object\n",
       "Prior_Arrest_Episodes_Property                        object\n",
       "Prior_Arrest_Episodes_Drug                            object\n",
       "Prior_Arrest_Episodes_PPViolationCharges              object\n",
       "Prior_Arrest_Episodes_DVCharges                         bool\n",
       "Prior_Arrest_Episodes_GunCharges                        bool\n",
       "Prior_Conviction_Episodes_Felony                      object\n",
       "Prior_Conviction_Episodes_Misd                        object\n",
       "Prior_Conviction_Episodes_Viol                          bool\n",
       "Prior_Conviction_Episodes_Prop                        object\n",
       "Prior_Conviction_Episodes_Drug                        object\n",
       "Prior_Conviction_Episodes_PPViolationCharges            bool\n",
       "Prior_Conviction_Episodes_DomesticViolenceCharges       bool\n",
       "Prior_Conviction_Episodes_GunCharges                    bool\n",
       "Prior_Revocations_Parole                                bool\n",
       "Prior_Revocations_Probation                             bool\n",
       "Condition_MH_SA                                         bool\n",
       "Condition_Cog_Ed                                        bool\n",
       "Condition_Other                                         bool\n",
       "Violations_ElectronicMonitoring                         bool\n",
       "Violations_Instruction                                  bool\n",
       "Violations_FailToReport                                 bool\n",
       "Violations_MoveWithoutPermission                        bool\n",
       "Delinquency_Reports                                   object\n",
       "Program_Attendances                                   object\n",
       "Program_UnexcusedAbsences                             object\n",
       "Residence_Changes                                     object\n",
       "Avg_Days_per_DrugTest                                float64\n",
       "DrugTests_THC_Positive                               float64\n",
       "DrugTests_Cocaine_Positive                           float64\n",
       "DrugTests_Meth_Positive                              float64\n",
       "DrugTests_Other_Positive                             float64\n",
       "Percent_Days_Employed                                float64\n",
       "Jobs_Per_Year                                        float64\n",
       "Employment_Exempt                                       bool\n",
       "Recidivism_Within_3years                                bool\n",
       "Recidivism_Arrest_Year1                                 bool\n",
       "Recidivism_Arrest_Year2                                 bool\n",
       "Recidivism_Arrest_Year3                                 bool\n",
       "dtype: object"
      ]
     },
     "execution_count": 141,
     "metadata": {},
     "output_type": "execute_result"
    }
   ],
   "source": [
    "data.dtypes"
   ]
  },
  {
   "cell_type": "code",
   "execution_count": 142,
   "metadata": {},
   "outputs": [],
   "source": [
    "##Label Encoder Needs Uniform Data Types so switching all Categorical Columns to String\n",
    "df = df.astype({'ID': int,\n",
    "                'Gender': str,\n",
    "               'Race': str,\n",
    "               'Age_at_Release': str,\n",
    "                'Residence_PUMA': int,\n",
    "                'Gang_Affiliated': str,\n",
    "                'Supervision_Risk_Score_First': float,\n",
    "               'Supervision_Level_First': str,\n",
    "               'Education_Level': str,\n",
    "               'Dependents': str,\n",
    "               'Prison_Offense': str,\n",
    "               'Prison_Years': str,\n",
    "               'Prior_Arrest_Episodes_Felony': str,\n",
    "               'Prior_Arrest_Episodes_Misd': str,\n",
    "               'Prior_Arrest_Episodes_Violent': str,\n",
    "               'Prior_Arrest_Episodes_Property': str,\n",
    "               'Prior_Arrest_Episodes_Drug': str,\n",
    "               'Prior_Arrest_Episodes_PPViolationCharges': str,\n",
    "               'Prior_Arrest_Episodes_DVCharges': str,\n",
    "               'Prior_Arrest_Episodes_GunCharges': str,\n",
    "               'Prior_Conviction_Episodes_Felony': str,\n",
    "               'Prior_Conviction_Episodes_Misd': str,\n",
    "               'Prior_Conviction_Episodes_Viol': str,\n",
    "               'Prior_Conviction_Episodes_Prop': str,\n",
    "               'Prior_Conviction_Episodes_Drug': str,\n",
    "               'Prior_Conviction_Episodes_PPViolationCharges': str,\n",
    "               'Prior_Conviction_Episodes_DomesticViolenceCharges': str,\n",
    "               'Prior_Conviction_Episodes_GunCharges': str,\n",
    "               'Prior_Revocations_Parole': str,\n",
    "               'Prior_Revocations_Probation': str,\n",
    "               'Condition_MH_SA': str,\n",
    "               'Condition_Cog_Ed': str,\n",
    "               'Condition_Other': str,\n",
    "               'Violations_ElectronicMonitoring': str,\n",
    "               'Violations_Instruction': str,\n",
    "               'Violations_FailToReport': str,\n",
    "               'Violations_MoveWithoutPermission': str,\n",
    "               'Delinquency_Reports': str,\n",
    "               'Program_Attendances': str,\n",
    "               'Program_UnexcusedAbsences': str,\n",
    "               'Residence_Changes': str,                \n",
    "                'Avg_Days_per_DrugTest': float,\n",
    "                'DrugTests_THC_Positive': float,\n",
    "                'DrugTests_Cocaine_Positive': float,\n",
    "                'DrugTests_Meth_Positive': float,\n",
    "                'DrugTests_Other_Positive': float,\n",
    "                'Percent_Days_Employed': float,\n",
    "                'Jobs_Per_Year': float,                \n",
    "               'Employment_Exempt': str,\n",
    "               'Recidivism_Within_3years': str,\n",
    "               'Recidivism_Arrest_Year1': str,\n",
    "               'Recidivism_Arrest_Year2': str,\n",
    "               'Recidivism_Arrest_Year3': str\n",
    "               })"
   ]
  },
  {
   "cell_type": "code",
   "execution_count": 143,
   "metadata": {},
   "outputs": [
    {
     "name": "stdout",
     "output_type": "stream",
     "text": [
      "ID                                                     int32\n",
      "Gender                                                object\n",
      "Race                                                  object\n",
      "Age_at_Release                                        object\n",
      "Residence_PUMA                                         int32\n",
      "Gang_Affiliated                                       object\n",
      "Supervision_Risk_Score_First                         float64\n",
      "Supervision_Level_First                               object\n",
      "Education_Level                                       object\n",
      "Dependents                                            object\n",
      "Prison_Offense                                        object\n",
      "Prison_Years                                          object\n",
      "Prior_Arrest_Episodes_Felony                          object\n",
      "Prior_Arrest_Episodes_Misd                            object\n",
      "Prior_Arrest_Episodes_Violent                         object\n",
      "Prior_Arrest_Episodes_Property                        object\n",
      "Prior_Arrest_Episodes_Drug                            object\n",
      "Prior_Arrest_Episodes_PPViolationCharges              object\n",
      "Prior_Arrest_Episodes_DVCharges                       object\n",
      "Prior_Arrest_Episodes_GunCharges                      object\n",
      "Prior_Conviction_Episodes_Felony                      object\n",
      "Prior_Conviction_Episodes_Misd                        object\n",
      "Prior_Conviction_Episodes_Viol                        object\n",
      "Prior_Conviction_Episodes_Prop                        object\n",
      "Prior_Conviction_Episodes_Drug                        object\n",
      "Prior_Conviction_Episodes_PPViolationCharges          object\n",
      "Prior_Conviction_Episodes_DomesticViolenceCharges     object\n",
      "Prior_Conviction_Episodes_GunCharges                  object\n",
      "Prior_Revocations_Parole                              object\n",
      "Prior_Revocations_Probation                           object\n",
      "Condition_MH_SA                                       object\n",
      "Condition_Cog_Ed                                      object\n",
      "Condition_Other                                       object\n",
      "Violations_ElectronicMonitoring                       object\n",
      "Violations_Instruction                                object\n",
      "Violations_FailToReport                               object\n",
      "Violations_MoveWithoutPermission                      object\n",
      "Delinquency_Reports                                   object\n",
      "Program_Attendances                                   object\n",
      "Program_UnexcusedAbsences                             object\n",
      "Residence_Changes                                     object\n",
      "Avg_Days_per_DrugTest                                float64\n",
      "DrugTests_THC_Positive                               float64\n",
      "DrugTests_Cocaine_Positive                           float64\n",
      "DrugTests_Meth_Positive                              float64\n",
      "DrugTests_Other_Positive                             float64\n",
      "Percent_Days_Employed                                float64\n",
      "Jobs_Per_Year                                        float64\n",
      "Employment_Exempt                                     object\n",
      "Recidivism_Within_3years                              object\n",
      "Recidivism_Arrest_Year1                               object\n",
      "Recidivism_Arrest_Year2                               object\n",
      "Recidivism_Arrest_Year3                               object\n",
      "dtype: object\n"
     ]
    }
   ],
   "source": [
    "print(df.dtypes)"
   ]
  },
  {
   "cell_type": "code",
   "execution_count": 144,
   "metadata": {},
   "outputs": [],
   "source": [
    "le = LabelEncoder()"
   ]
  },
  {
   "cell_type": "code",
   "execution_count": 145,
   "metadata": {},
   "outputs": [],
   "source": [
    "## Use Label Encoder to Encode Each Categorical Column Prior to One-Hot Encoding\n",
    "df['Gender'] = le.fit_transform(df['Gender'])\n",
    "df['Race'] = le.fit_transform(df['Race'])\n",
    "df['Age_at_Release'] = le.fit_transform(df['Age_at_Release'])\n",
    "df['Gang_Affiliated'] = le.fit_transform(df['Gang_Affiliated'])\n",
    "df['Supervision_Level_First'] = le.fit_transform(df['Supervision_Level_First'])\n",
    "df['Education_Level'] = le.fit_transform(df['Education_Level'])\n",
    "df['Dependents'] = le.fit_transform(df['Dependents'])\n",
    "df['Prison_Offense'] = le.fit_transform(df['Prison_Offense'])\n",
    "df['Prison_Years'] = le.fit_transform(df['Prison_Years'])\n",
    "df['Prior_Arrest_Episodes_Felony'] = le.fit_transform(df['Prior_Arrest_Episodes_Felony'])\n",
    "df['Prior_Arrest_Episodes_Misd'] = le.fit_transform(df['Prior_Arrest_Episodes_Misd'])\n",
    "df['Prior_Arrest_Episodes_Violent'] = le.fit_transform(df['Prior_Arrest_Episodes_Violent'])\n",
    "df['Prior_Arrest_Episodes_Property'] = le.fit_transform(df['Prior_Arrest_Episodes_Property'])\n",
    "df['Prior_Arrest_Episodes_Drug'] = le.fit_transform(df['Prior_Arrest_Episodes_Drug'])\n",
    "df['Prior_Arrest_Episodes_PPViolationCharges'] = le.fit_transform(df['Prior_Arrest_Episodes_PPViolationCharges'])\n",
    "df['Prior_Arrest_Episodes_DVCharges'] = le.fit_transform(df['Prior_Arrest_Episodes_DVCharges'])\n",
    "df['Prior_Arrest_Episodes_GunCharges'] = le.fit_transform(df['Prior_Arrest_Episodes_GunCharges'])\n",
    "df['Prior_Conviction_Episodes_Felony'] = le.fit_transform(df['Prior_Conviction_Episodes_Felony'])\n",
    "df['Prior_Conviction_Episodes_Misd'] = le.fit_transform(df['Prior_Conviction_Episodes_Misd'])\n",
    "df['Prior_Conviction_Episodes_Viol'] = le.fit_transform(df['Prior_Conviction_Episodes_Viol'])\n",
    "df['Prior_Conviction_Episodes_Prop'] = le.fit_transform(df['Prior_Conviction_Episodes_Prop'])\n",
    "df['Prior_Conviction_Episodes_Drug'] = le.fit_transform(df['Prior_Conviction_Episodes_Drug'])\n",
    "df['Prior_Conviction_Episodes_PPViolationCharges'] = le.fit_transform(df['Prior_Conviction_Episodes_PPViolationCharges'])\n",
    "df['Prior_Conviction_Episodes_DomesticViolenceCharges'] = le.fit_transform(df['Prior_Conviction_Episodes_DomesticViolenceCharges'])\n",
    "df['Prior_Conviction_Episodes_GunCharges'] = le.fit_transform(df['Prior_Conviction_Episodes_GunCharges'])\n",
    "df['Prior_Revocations_Parole'] = le.fit_transform(df['Prior_Revocations_Parole'])\n",
    "df['Prior_Revocations_Probation'] = le.fit_transform(df['Prior_Revocations_Probation'])\n",
    "df['Condition_MH_SA'] = le.fit_transform(df['Condition_MH_SA'])\n",
    "df['Condition_Cog_Ed'] = le.fit_transform(df['Condition_Cog_Ed'])\n",
    "df['Condition_Other'] = le.fit_transform(df['Condition_Other'])\n",
    "df['Violations_ElectronicMonitoring'] = le.fit_transform(df['Violations_ElectronicMonitoring'])\n",
    "df['Violations_Instruction'] = le.fit_transform(df['Violations_Instruction'])\n",
    "df['Violations_FailToReport'] = le.fit_transform(df['Violations_FailToReport'])\n",
    "df['Violations_MoveWithoutPermission'] = le.fit_transform(df['Violations_MoveWithoutPermission'])\n",
    "df['Delinquency_Reports'] = le.fit_transform(df['Delinquency_Reports'])\n",
    "df['Program_Attendances'] = le.fit_transform(df['Program_Attendances'])\n",
    "df['Program_UnexcusedAbsences'] = le.fit_transform(df['Program_UnexcusedAbsences'])\n",
    "df['Residence_Changes'] = le.fit_transform(df['Residence_Changes'])\n",
    "df['Employment_Exempt'] = le.fit_transform(df['Employment_Exempt'])\n",
    "df['Recidivism_Within_3years'] = le.fit_transform(df['Recidivism_Within_3years'])\n",
    "df['Recidivism_Arrest_Year1'] = le.fit_transform(df['Recidivism_Arrest_Year1'])\n",
    "df['Recidivism_Arrest_Year2'] = le.fit_transform(df['Recidivism_Arrest_Year2'])\n",
    "df['Recidivism_Arrest_Year3'] = le.fit_transform(df['Recidivism_Arrest_Year3'])"
   ]
  },
  {
   "cell_type": "code",
   "execution_count": 146,
   "metadata": {
    "scrolled": true
   },
   "outputs": [
    {
     "data": {
      "text/html": [
       "<div>\n",
       "<style scoped>\n",
       "    .dataframe tbody tr th:only-of-type {\n",
       "        vertical-align: middle;\n",
       "    }\n",
       "\n",
       "    .dataframe tbody tr th {\n",
       "        vertical-align: top;\n",
       "    }\n",
       "\n",
       "    .dataframe thead th {\n",
       "        text-align: right;\n",
       "    }\n",
       "</style>\n",
       "<table border=\"1\" class=\"dataframe\">\n",
       "  <thead>\n",
       "    <tr style=\"text-align: right;\">\n",
       "      <th></th>\n",
       "      <th>ID</th>\n",
       "      <th>Gender</th>\n",
       "      <th>Race</th>\n",
       "      <th>Age_at_Release</th>\n",
       "      <th>Residence_PUMA</th>\n",
       "      <th>Gang_Affiliated</th>\n",
       "      <th>Supervision_Risk_Score_First</th>\n",
       "      <th>Supervision_Level_First</th>\n",
       "      <th>Education_Level</th>\n",
       "      <th>Dependents</th>\n",
       "      <th>...</th>\n",
       "      <th>DrugTests_Cocaine_Positive</th>\n",
       "      <th>DrugTests_Meth_Positive</th>\n",
       "      <th>DrugTests_Other_Positive</th>\n",
       "      <th>Percent_Days_Employed</th>\n",
       "      <th>Jobs_Per_Year</th>\n",
       "      <th>Employment_Exempt</th>\n",
       "      <th>Recidivism_Within_3years</th>\n",
       "      <th>Recidivism_Arrest_Year1</th>\n",
       "      <th>Recidivism_Arrest_Year2</th>\n",
       "      <th>Recidivism_Arrest_Year3</th>\n",
       "    </tr>\n",
       "  </thead>\n",
       "  <tbody>\n",
       "    <tr>\n",
       "      <th>0</th>\n",
       "      <td>1</td>\n",
       "      <td>1</td>\n",
       "      <td>0</td>\n",
       "      <td>5</td>\n",
       "      <td>16</td>\n",
       "      <td>0</td>\n",
       "      <td>3.0</td>\n",
       "      <td>2</td>\n",
       "      <td>0</td>\n",
       "      <td>3</td>\n",
       "      <td>...</td>\n",
       "      <td>0.0</td>\n",
       "      <td>0.000000</td>\n",
       "      <td>0.0</td>\n",
       "      <td>0.488562</td>\n",
       "      <td>0.447610</td>\n",
       "      <td>0</td>\n",
       "      <td>0</td>\n",
       "      <td>0</td>\n",
       "      <td>0</td>\n",
       "      <td>0</td>\n",
       "    </tr>\n",
       "    <tr>\n",
       "      <th>1</th>\n",
       "      <td>2</td>\n",
       "      <td>1</td>\n",
       "      <td>0</td>\n",
       "      <td>3</td>\n",
       "      <td>16</td>\n",
       "      <td>0</td>\n",
       "      <td>6.0</td>\n",
       "      <td>1</td>\n",
       "      <td>2</td>\n",
       "      <td>1</td>\n",
       "      <td>...</td>\n",
       "      <td>0.0</td>\n",
       "      <td>0.000000</td>\n",
       "      <td>0.0</td>\n",
       "      <td>0.425234</td>\n",
       "      <td>2.000000</td>\n",
       "      <td>0</td>\n",
       "      <td>1</td>\n",
       "      <td>0</td>\n",
       "      <td>0</td>\n",
       "      <td>1</td>\n",
       "    </tr>\n",
       "    <tr>\n",
       "      <th>2</th>\n",
       "      <td>3</td>\n",
       "      <td>1</td>\n",
       "      <td>0</td>\n",
       "      <td>6</td>\n",
       "      <td>24</td>\n",
       "      <td>0</td>\n",
       "      <td>7.0</td>\n",
       "      <td>0</td>\n",
       "      <td>0</td>\n",
       "      <td>3</td>\n",
       "      <td>...</td>\n",
       "      <td>0.0</td>\n",
       "      <td>0.166667</td>\n",
       "      <td>0.0</td>\n",
       "      <td>0.000000</td>\n",
       "      <td>0.000000</td>\n",
       "      <td>0</td>\n",
       "      <td>1</td>\n",
       "      <td>0</td>\n",
       "      <td>1</td>\n",
       "      <td>0</td>\n",
       "    </tr>\n",
       "    <tr>\n",
       "      <th>3</th>\n",
       "      <td>4</td>\n",
       "      <td>1</td>\n",
       "      <td>1</td>\n",
       "      <td>4</td>\n",
       "      <td>16</td>\n",
       "      <td>0</td>\n",
       "      <td>7.0</td>\n",
       "      <td>0</td>\n",
       "      <td>2</td>\n",
       "      <td>1</td>\n",
       "      <td>...</td>\n",
       "      <td>0.0</td>\n",
       "      <td>0.000000</td>\n",
       "      <td>0.0</td>\n",
       "      <td>1.000000</td>\n",
       "      <td>0.718996</td>\n",
       "      <td>0</td>\n",
       "      <td>0</td>\n",
       "      <td>0</td>\n",
       "      <td>0</td>\n",
       "      <td>0</td>\n",
       "    </tr>\n",
       "    <tr>\n",
       "      <th>4</th>\n",
       "      <td>5</td>\n",
       "      <td>1</td>\n",
       "      <td>1</td>\n",
       "      <td>3</td>\n",
       "      <td>16</td>\n",
       "      <td>0</td>\n",
       "      <td>4.0</td>\n",
       "      <td>1</td>\n",
       "      <td>2</td>\n",
       "      <td>3</td>\n",
       "      <td>...</td>\n",
       "      <td>0.0</td>\n",
       "      <td>0.058824</td>\n",
       "      <td>0.0</td>\n",
       "      <td>0.203562</td>\n",
       "      <td>0.929389</td>\n",
       "      <td>0</td>\n",
       "      <td>1</td>\n",
       "      <td>1</td>\n",
       "      <td>0</td>\n",
       "      <td>0</td>\n",
       "    </tr>\n",
       "  </tbody>\n",
       "</table>\n",
       "<p>5 rows × 53 columns</p>\n",
       "</div>"
      ],
      "text/plain": [
       "   ID  Gender  Race  Age_at_Release  Residence_PUMA  Gang_Affiliated  \\\n",
       "0   1       1     0               5              16                0   \n",
       "1   2       1     0               3              16                0   \n",
       "2   3       1     0               6              24                0   \n",
       "3   4       1     1               4              16                0   \n",
       "4   5       1     1               3              16                0   \n",
       "\n",
       "   Supervision_Risk_Score_First  Supervision_Level_First  Education_Level  \\\n",
       "0                           3.0                        2                0   \n",
       "1                           6.0                        1                2   \n",
       "2                           7.0                        0                0   \n",
       "3                           7.0                        0                2   \n",
       "4                           4.0                        1                2   \n",
       "\n",
       "   Dependents  ...  DrugTests_Cocaine_Positive  DrugTests_Meth_Positive  \\\n",
       "0           3  ...                         0.0                 0.000000   \n",
       "1           1  ...                         0.0                 0.000000   \n",
       "2           3  ...                         0.0                 0.166667   \n",
       "3           1  ...                         0.0                 0.000000   \n",
       "4           3  ...                         0.0                 0.058824   \n",
       "\n",
       "   DrugTests_Other_Positive  Percent_Days_Employed  Jobs_Per_Year  \\\n",
       "0                       0.0               0.488562       0.447610   \n",
       "1                       0.0               0.425234       2.000000   \n",
       "2                       0.0               0.000000       0.000000   \n",
       "3                       0.0               1.000000       0.718996   \n",
       "4                       0.0               0.203562       0.929389   \n",
       "\n",
       "   Employment_Exempt  Recidivism_Within_3years  Recidivism_Arrest_Year1  \\\n",
       "0                  0                         0                        0   \n",
       "1                  0                         1                        0   \n",
       "2                  0                         1                        0   \n",
       "3                  0                         0                        0   \n",
       "4                  0                         1                        1   \n",
       "\n",
       "   Recidivism_Arrest_Year2  Recidivism_Arrest_Year3  \n",
       "0                        0                        0  \n",
       "1                        0                        1  \n",
       "2                        1                        0  \n",
       "3                        0                        0  \n",
       "4                        0                        0  \n",
       "\n",
       "[5 rows x 53 columns]"
      ]
     },
     "execution_count": 146,
     "metadata": {},
     "output_type": "execute_result"
    }
   ],
   "source": [
    "df.head()"
   ]
  },
  {
   "cell_type": "code",
   "execution_count": 147,
   "metadata": {},
   "outputs": [
    {
     "name": "stdout",
     "output_type": "stream",
     "text": [
      "ID                                                     int32\n",
      "Gender                                                 int32\n",
      "Race                                                   int32\n",
      "Age_at_Release                                         int32\n",
      "Residence_PUMA                                         int32\n",
      "Gang_Affiliated                                        int32\n",
      "Supervision_Risk_Score_First                         float64\n",
      "Supervision_Level_First                                int32\n",
      "Education_Level                                        int32\n",
      "Dependents                                             int32\n",
      "Prison_Offense                                         int32\n",
      "Prison_Years                                           int32\n",
      "Prior_Arrest_Episodes_Felony                           int32\n",
      "Prior_Arrest_Episodes_Misd                             int32\n",
      "Prior_Arrest_Episodes_Violent                          int32\n",
      "Prior_Arrest_Episodes_Property                         int32\n",
      "Prior_Arrest_Episodes_Drug                             int32\n",
      "Prior_Arrest_Episodes_PPViolationCharges               int32\n",
      "Prior_Arrest_Episodes_DVCharges                        int32\n",
      "Prior_Arrest_Episodes_GunCharges                       int32\n",
      "Prior_Conviction_Episodes_Felony                       int32\n",
      "Prior_Conviction_Episodes_Misd                         int32\n",
      "Prior_Conviction_Episodes_Viol                         int32\n",
      "Prior_Conviction_Episodes_Prop                         int32\n",
      "Prior_Conviction_Episodes_Drug                         int32\n",
      "Prior_Conviction_Episodes_PPViolationCharges           int32\n",
      "Prior_Conviction_Episodes_DomesticViolenceCharges      int32\n",
      "Prior_Conviction_Episodes_GunCharges                   int32\n",
      "Prior_Revocations_Parole                               int32\n",
      "Prior_Revocations_Probation                            int32\n",
      "Condition_MH_SA                                        int32\n",
      "Condition_Cog_Ed                                       int32\n",
      "Condition_Other                                        int32\n",
      "Violations_ElectronicMonitoring                        int32\n",
      "Violations_Instruction                                 int32\n",
      "Violations_FailToReport                                int32\n",
      "Violations_MoveWithoutPermission                       int32\n",
      "Delinquency_Reports                                    int32\n",
      "Program_Attendances                                    int32\n",
      "Program_UnexcusedAbsences                              int32\n",
      "Residence_Changes                                      int32\n",
      "Avg_Days_per_DrugTest                                float64\n",
      "DrugTests_THC_Positive                               float64\n",
      "DrugTests_Cocaine_Positive                           float64\n",
      "DrugTests_Meth_Positive                              float64\n",
      "DrugTests_Other_Positive                             float64\n",
      "Percent_Days_Employed                                float64\n",
      "Jobs_Per_Year                                        float64\n",
      "Employment_Exempt                                      int32\n",
      "Recidivism_Within_3years                               int32\n",
      "Recidivism_Arrest_Year1                                int32\n",
      "Recidivism_Arrest_Year2                                int32\n",
      "Recidivism_Arrest_Year3                                int32\n",
      "dtype: object\n"
     ]
    }
   ],
   "source": [
    "print(df.dtypes)"
   ]
  },
  {
   "cell_type": "code",
   "execution_count": 148,
   "metadata": {},
   "outputs": [
    {
     "data": {
      "text/plain": [
       "(18028, 53)"
      ]
     },
     "execution_count": 148,
     "metadata": {},
     "output_type": "execute_result"
    }
   ],
   "source": [
    "df.shape"
   ]
  },
  {
   "cell_type": "code",
   "execution_count": null,
   "metadata": {},
   "outputs": [],
   "source": [
    "df.to_csv('Training_Data_Encoded.csv')"
   ]
  },
  {
   "cell_type": "code",
   "execution_count": 149,
   "metadata": {},
   "outputs": [],
   "source": [
    "##Label Encoder Needs Uniform Data Types so switching all Categorical Columns to String\n",
    "df = df.astype({\n",
    "               'Recidivism_Within_3years': str,\n",
    "               'Recidivism_Arrest_Year1': str,\n",
    "               'Recidivism_Arrest_Year2': str,\n",
    "               'Recidivism_Arrest_Year3': str\n",
    "               })"
   ]
  },
  {
   "cell_type": "code",
   "execution_count": 150,
   "metadata": {},
   "outputs": [
    {
     "data": {
      "text/plain": [
       "ID                                                     int32\n",
       "Gender                                                 int32\n",
       "Race                                                   int32\n",
       "Age_at_Release                                         int32\n",
       "Residence_PUMA                                         int32\n",
       "Gang_Affiliated                                        int32\n",
       "Supervision_Risk_Score_First                         float64\n",
       "Supervision_Level_First                                int32\n",
       "Education_Level                                        int32\n",
       "Dependents                                             int32\n",
       "Prison_Offense                                         int32\n",
       "Prison_Years                                           int32\n",
       "Prior_Arrest_Episodes_Felony                           int32\n",
       "Prior_Arrest_Episodes_Misd                             int32\n",
       "Prior_Arrest_Episodes_Violent                          int32\n",
       "Prior_Arrest_Episodes_Property                         int32\n",
       "Prior_Arrest_Episodes_Drug                             int32\n",
       "Prior_Arrest_Episodes_PPViolationCharges               int32\n",
       "Prior_Arrest_Episodes_DVCharges                        int32\n",
       "Prior_Arrest_Episodes_GunCharges                       int32\n",
       "Prior_Conviction_Episodes_Felony                       int32\n",
       "Prior_Conviction_Episodes_Misd                         int32\n",
       "Prior_Conviction_Episodes_Viol                         int32\n",
       "Prior_Conviction_Episodes_Prop                         int32\n",
       "Prior_Conviction_Episodes_Drug                         int32\n",
       "Prior_Conviction_Episodes_PPViolationCharges           int32\n",
       "Prior_Conviction_Episodes_DomesticViolenceCharges      int32\n",
       "Prior_Conviction_Episodes_GunCharges                   int32\n",
       "Prior_Revocations_Parole                               int32\n",
       "Prior_Revocations_Probation                            int32\n",
       "Condition_MH_SA                                        int32\n",
       "Condition_Cog_Ed                                       int32\n",
       "Condition_Other                                        int32\n",
       "Violations_ElectronicMonitoring                        int32\n",
       "Violations_Instruction                                 int32\n",
       "Violations_FailToReport                                int32\n",
       "Violations_MoveWithoutPermission                       int32\n",
       "Delinquency_Reports                                    int32\n",
       "Program_Attendances                                    int32\n",
       "Program_UnexcusedAbsences                              int32\n",
       "Residence_Changes                                      int32\n",
       "Avg_Days_per_DrugTest                                float64\n",
       "DrugTests_THC_Positive                               float64\n",
       "DrugTests_Cocaine_Positive                           float64\n",
       "DrugTests_Meth_Positive                              float64\n",
       "DrugTests_Other_Positive                             float64\n",
       "Percent_Days_Employed                                float64\n",
       "Jobs_Per_Year                                        float64\n",
       "Employment_Exempt                                      int32\n",
       "Recidivism_Within_3years                              object\n",
       "Recidivism_Arrest_Year1                               object\n",
       "Recidivism_Arrest_Year2                               object\n",
       "Recidivism_Arrest_Year3                               object\n",
       "dtype: object"
      ]
     },
     "execution_count": 150,
     "metadata": {},
     "output_type": "execute_result"
    }
   ],
   "source": [
    "df.dtypes"
   ]
  },
  {
   "cell_type": "code",
   "execution_count": 151,
   "metadata": {},
   "outputs": [
    {
     "data": {
      "text/plain": [
       "0        0 0 0 0\n",
       "1        1 0 0 1\n",
       "2        1 0 1 0\n",
       "3        0 0 0 0\n",
       "4        1 1 0 0\n",
       "          ...   \n",
       "18023    1 1 0 0\n",
       "18024    1 0 1 0\n",
       "18025    1 0 1 0\n",
       "18026    0 0 0 0\n",
       "18027    1 1 0 0\n",
       "Name: Recidivism_Within_3years_Combined, Length: 18028, dtype: object"
      ]
     },
     "execution_count": 151,
     "metadata": {},
     "output_type": "execute_result"
    }
   ],
   "source": [
    "df['Recidivism_Within_3years_Combined'] = df['Recidivism_Within_3years'].astype(str) + \" \" + df['Recidivism_Arrest_Year1'] + \" \" + df['Recidivism_Arrest_Year2'] + \" \" + df['Recidivism_Arrest_Year3']\n",
    "df['Recidivism_Within_3years_Combined']"
   ]
  },
  {
   "cell_type": "code",
   "execution_count": 152,
   "metadata": {},
   "outputs": [],
   "source": [
    "## Transforming Combined Column into Encoded Column and Others back\n",
    "df['Recidivism_Within_3years'] = le.fit_transform(df['Recidivism_Within_3years'])\n",
    "df['Recidivism_Arrest_Year1'] = le.fit_transform(df['Recidivism_Arrest_Year1'])\n",
    "df['Recidivism_Arrest_Year2'] = le.fit_transform(df['Recidivism_Arrest_Year2'])\n",
    "df['Recidivism_Arrest_Year3'] = le.fit_transform(df['Recidivism_Arrest_Year3'])\n",
    "df['Recidivism_Within_3years_Combined'] = le.fit_transform(df['Recidivism_Within_3years_Combined'])"
   ]
  },
  {
   "cell_type": "code",
   "execution_count": 153,
   "metadata": {},
   "outputs": [
    {
     "data": {
      "text/plain": [
       "ID                                                     int32\n",
       "Gender                                                 int32\n",
       "Race                                                   int32\n",
       "Age_at_Release                                         int32\n",
       "Residence_PUMA                                         int32\n",
       "Gang_Affiliated                                        int32\n",
       "Supervision_Risk_Score_First                         float64\n",
       "Supervision_Level_First                                int32\n",
       "Education_Level                                        int32\n",
       "Dependents                                             int32\n",
       "Prison_Offense                                         int32\n",
       "Prison_Years                                           int32\n",
       "Prior_Arrest_Episodes_Felony                           int32\n",
       "Prior_Arrest_Episodes_Misd                             int32\n",
       "Prior_Arrest_Episodes_Violent                          int32\n",
       "Prior_Arrest_Episodes_Property                         int32\n",
       "Prior_Arrest_Episodes_Drug                             int32\n",
       "Prior_Arrest_Episodes_PPViolationCharges               int32\n",
       "Prior_Arrest_Episodes_DVCharges                        int32\n",
       "Prior_Arrest_Episodes_GunCharges                       int32\n",
       "Prior_Conviction_Episodes_Felony                       int32\n",
       "Prior_Conviction_Episodes_Misd                         int32\n",
       "Prior_Conviction_Episodes_Viol                         int32\n",
       "Prior_Conviction_Episodes_Prop                         int32\n",
       "Prior_Conviction_Episodes_Drug                         int32\n",
       "Prior_Conviction_Episodes_PPViolationCharges           int32\n",
       "Prior_Conviction_Episodes_DomesticViolenceCharges      int32\n",
       "Prior_Conviction_Episodes_GunCharges                   int32\n",
       "Prior_Revocations_Parole                               int32\n",
       "Prior_Revocations_Probation                            int32\n",
       "Condition_MH_SA                                        int32\n",
       "Condition_Cog_Ed                                       int32\n",
       "Condition_Other                                        int32\n",
       "Violations_ElectronicMonitoring                        int32\n",
       "Violations_Instruction                                 int32\n",
       "Violations_FailToReport                                int32\n",
       "Violations_MoveWithoutPermission                       int32\n",
       "Delinquency_Reports                                    int32\n",
       "Program_Attendances                                    int32\n",
       "Program_UnexcusedAbsences                              int32\n",
       "Residence_Changes                                      int32\n",
       "Avg_Days_per_DrugTest                                float64\n",
       "DrugTests_THC_Positive                               float64\n",
       "DrugTests_Cocaine_Positive                           float64\n",
       "DrugTests_Meth_Positive                              float64\n",
       "DrugTests_Other_Positive                             float64\n",
       "Percent_Days_Employed                                float64\n",
       "Jobs_Per_Year                                        float64\n",
       "Employment_Exempt                                      int32\n",
       "Recidivism_Within_3years                               int32\n",
       "Recidivism_Arrest_Year1                                int32\n",
       "Recidivism_Arrest_Year2                                int32\n",
       "Recidivism_Arrest_Year3                                int32\n",
       "Recidivism_Within_3years_Combined                      int32\n",
       "dtype: object"
      ]
     },
     "execution_count": 153,
     "metadata": {},
     "output_type": "execute_result"
    }
   ],
   "source": [
    "df.dtypes"
   ]
  },
  {
   "cell_type": "code",
   "execution_count": null,
   "metadata": {},
   "outputs": [],
   "source": [
    "df.drop(['Recidivism_Within_3years','Recidivism_Arrest_Year1','Recidivism_Arrest_Year2','Recidivism_Arrest_Year3'], inplace=True, axis = 1)\n",
    "df.to_csv('Training_Data_Encoded_v2.csv')"
   ]
  },
  {
   "cell_type": "markdown",
   "metadata": {},
   "source": [
    "## Find Null Values and Treat Them"
   ]
  },
  {
   "cell_type": "code",
   "execution_count": 67,
   "metadata": {},
   "outputs": [],
   "source": [
    "data = pd.read_csv('Training_Data_Encoded_v2.csv')"
   ]
  },
  {
   "cell_type": "code",
   "execution_count": 68,
   "metadata": {},
   "outputs": [
    {
     "data": {
      "text/plain": [
       "Unnamed: 0                                              0\n",
       "ID                                                      0\n",
       "Gender                                                  0\n",
       "Race                                                    0\n",
       "Age_at_Release                                          0\n",
       "Residence_PUMA                                          0\n",
       "Gang_Affiliated                                         0\n",
       "Supervision_Risk_Score_First                          330\n",
       "Supervision_Level_First                                 0\n",
       "Education_Level                                         0\n",
       "Dependents                                              0\n",
       "Prison_Offense                                          0\n",
       "Prison_Years                                            0\n",
       "Prior_Arrest_Episodes_Felony                            0\n",
       "Prior_Arrest_Episodes_Misd                              0\n",
       "Prior_Arrest_Episodes_Violent                           0\n",
       "Prior_Arrest_Episodes_Property                          0\n",
       "Prior_Arrest_Episodes_Drug                              0\n",
       "Prior_Arrest_Episodes_PPViolationCharges                0\n",
       "Prior_Arrest_Episodes_DVCharges                         0\n",
       "Prior_Arrest_Episodes_GunCharges                        0\n",
       "Prior_Conviction_Episodes_Felony                        0\n",
       "Prior_Conviction_Episodes_Misd                          0\n",
       "Prior_Conviction_Episodes_Viol                          0\n",
       "Prior_Conviction_Episodes_Prop                          0\n",
       "Prior_Conviction_Episodes_Drug                          0\n",
       "Prior_Conviction_Episodes_PPViolationCharges            0\n",
       "Prior_Conviction_Episodes_DomesticViolenceCharges       0\n",
       "Prior_Conviction_Episodes_GunCharges                    0\n",
       "Prior_Revocations_Parole                                0\n",
       "Prior_Revocations_Probation                             0\n",
       "Condition_MH_SA                                         0\n",
       "Condition_Cog_Ed                                        0\n",
       "Condition_Other                                         0\n",
       "Violations_ElectronicMonitoring                         0\n",
       "Violations_Instruction                                  0\n",
       "Violations_FailToReport                                 0\n",
       "Violations_MoveWithoutPermission                        0\n",
       "Delinquency_Reports                                     0\n",
       "Program_Attendances                                     0\n",
       "Program_UnexcusedAbsences                               0\n",
       "Residence_Changes                                       0\n",
       "Avg_Days_per_DrugTest                                4260\n",
       "DrugTests_THC_Positive                               3632\n",
       "DrugTests_Cocaine_Positive                           3632\n",
       "DrugTests_Meth_Positive                              3632\n",
       "DrugTests_Other_Positive                             3632\n",
       "Percent_Days_Employed                                 307\n",
       "Jobs_Per_Year                                         534\n",
       "Employment_Exempt                                       0\n",
       "Recidivism_Within_3years_Combined                       0\n",
       "dtype: int64"
      ]
     },
     "execution_count": 68,
     "metadata": {},
     "output_type": "execute_result"
    }
   ],
   "source": [
    "data.isnull().sum()"
   ]
  },
  {
   "cell_type": "code",
   "execution_count": 69,
   "metadata": {
    "scrolled": true
   },
   "outputs": [],
   "source": [
    "##data = data.replace(to_replace= np.nan, value = 0)\n",
    "data = data.fillna(0)"
   ]
  },
  {
   "cell_type": "code",
   "execution_count": 70,
   "metadata": {
    "scrolled": true
   },
   "outputs": [
    {
     "data": {
      "text/plain": [
       "Unnamed: 0                                           0\n",
       "ID                                                   0\n",
       "Gender                                               0\n",
       "Race                                                 0\n",
       "Age_at_Release                                       0\n",
       "Residence_PUMA                                       0\n",
       "Gang_Affiliated                                      0\n",
       "Supervision_Risk_Score_First                         0\n",
       "Supervision_Level_First                              0\n",
       "Education_Level                                      0\n",
       "Dependents                                           0\n",
       "Prison_Offense                                       0\n",
       "Prison_Years                                         0\n",
       "Prior_Arrest_Episodes_Felony                         0\n",
       "Prior_Arrest_Episodes_Misd                           0\n",
       "Prior_Arrest_Episodes_Violent                        0\n",
       "Prior_Arrest_Episodes_Property                       0\n",
       "Prior_Arrest_Episodes_Drug                           0\n",
       "Prior_Arrest_Episodes_PPViolationCharges             0\n",
       "Prior_Arrest_Episodes_DVCharges                      0\n",
       "Prior_Arrest_Episodes_GunCharges                     0\n",
       "Prior_Conviction_Episodes_Felony                     0\n",
       "Prior_Conviction_Episodes_Misd                       0\n",
       "Prior_Conviction_Episodes_Viol                       0\n",
       "Prior_Conviction_Episodes_Prop                       0\n",
       "Prior_Conviction_Episodes_Drug                       0\n",
       "Prior_Conviction_Episodes_PPViolationCharges         0\n",
       "Prior_Conviction_Episodes_DomesticViolenceCharges    0\n",
       "Prior_Conviction_Episodes_GunCharges                 0\n",
       "Prior_Revocations_Parole                             0\n",
       "Prior_Revocations_Probation                          0\n",
       "Condition_MH_SA                                      0\n",
       "Condition_Cog_Ed                                     0\n",
       "Condition_Other                                      0\n",
       "Violations_ElectronicMonitoring                      0\n",
       "Violations_Instruction                               0\n",
       "Violations_FailToReport                              0\n",
       "Violations_MoveWithoutPermission                     0\n",
       "Delinquency_Reports                                  0\n",
       "Program_Attendances                                  0\n",
       "Program_UnexcusedAbsences                            0\n",
       "Residence_Changes                                    0\n",
       "Avg_Days_per_DrugTest                                0\n",
       "DrugTests_THC_Positive                               0\n",
       "DrugTests_Cocaine_Positive                           0\n",
       "DrugTests_Meth_Positive                              0\n",
       "DrugTests_Other_Positive                             0\n",
       "Percent_Days_Employed                                0\n",
       "Jobs_Per_Year                                        0\n",
       "Employment_Exempt                                    0\n",
       "Recidivism_Within_3years_Combined                    0\n",
       "dtype: int64"
      ]
     },
     "execution_count": 70,
     "metadata": {},
     "output_type": "execute_result"
    }
   ],
   "source": [
    "data.isnull().sum()"
   ]
  },
  {
   "cell_type": "markdown",
   "metadata": {},
   "source": [
    "## Tune HyperParameters for RandomForest Classifier"
   ]
  },
  {
   "cell_type": "code",
   "execution_count": 30,
   "metadata": {},
   "outputs": [],
   "source": [
    "##Exhaustive Grid Search for Hyperparameter Tuning\n",
    "n_estimators = [1600, 1800, 2000, 2200, 2400]\n",
    "max_depth = [5, 8, 15, 25, 30]\n",
    "min_samples_split = [2, 5, 10, 15, 100]\n",
    "min_samples_leaf = [1, 2, 5, 10]\n",
    "\n",
    "forest = RandomForestClassifier(random_state=1)"
   ]
  },
  {
   "cell_type": "code",
   "execution_count": 31,
   "metadata": {},
   "outputs": [
    {
     "name": "stdout",
     "output_type": "stream",
     "text": [
      "Fitting 3 folds for each of 500 candidates, totalling 1500 fits\n"
     ]
    },
    {
     "name": "stderr",
     "output_type": "stream",
     "text": [
      "[Parallel(n_jobs=-1)]: Using backend LokyBackend with 4 concurrent workers.\n",
      "[Parallel(n_jobs=-1)]: Done  42 tasks      | elapsed:  2.4min\n",
      "[Parallel(n_jobs=-1)]: Done 192 tasks      | elapsed: 10.3min\n",
      "[Parallel(n_jobs=-1)]: Done 442 tasks      | elapsed: 26.9min\n",
      "[Parallel(n_jobs=-1)]: Done 792 tasks      | elapsed: 61.7min\n",
      "[Parallel(n_jobs=-1)]: Done 1242 tasks      | elapsed: 99.8min\n",
      "[Parallel(n_jobs=-1)]: Done 1500 out of 1500 | elapsed: 121.1min finished\n"
     ]
    }
   ],
   "source": [
    "hyperF = dict(n_estimators = n_estimators, max_depth = max_depth, min_samples_split = min_samples_split, \n",
    "              min_samples_leaf = min_samples_leaf)\n",
    "\n",
    "gridF = GridSearchCV(forest, hyperF, cv = 3, verbose = 1, n_jobs = -1)"
   ]
  },
  {
   "cell_type": "code",
   "execution_count": 34,
   "metadata": {
    "scrolled": true
   },
   "outputs": [
    {
     "data": {
      "text/plain": [
       "{'max_depth': 30,\n",
       " 'min_samples_leaf': 1,\n",
       " 'min_samples_split': 5,\n",
       " 'n_estimators': 1600}"
      ]
     },
     "execution_count": 34,
     "metadata": {},
     "output_type": "execute_result"
    }
   ],
   "source": [
    "gridF.best_params_"
   ]
  },
  {
   "cell_type": "markdown",
   "metadata": {},
   "source": [
    "## Specify Test/Train Split and Use Above  Parameters on the Dataset."
   ]
  },
  {
   "cell_type": "code",
   "execution_count": 71,
   "metadata": {},
   "outputs": [],
   "source": [
    "## Train and Test Split\n",
    "X = data.drop(['Recidivism_Within_3years_Combined','Unnamed: 0','ID'],axis=1)\n",
    "y = data['Recidivism_Within_3years_Combined']"
   ]
  },
  {
   "cell_type": "code",
   "execution_count": 72,
   "metadata": {},
   "outputs": [
    {
     "name": "stdout",
     "output_type": "stream",
     "text": [
      "(18028, 48) (18028,)\n"
     ]
    }
   ],
   "source": [
    "print(X.shape, y.shape)"
   ]
  },
  {
   "cell_type": "code",
   "execution_count": 73,
   "metadata": {},
   "outputs": [
    {
     "name": "stdout",
     "output_type": "stream",
     "text": [
      "(12078, 48) (5950, 48) (12078,) (5950,)\n"
     ]
    }
   ],
   "source": [
    "X_train, X_test, y_train, y_test = train_test_split(X, y, test_size = 0.33, random_state=1)\n",
    "print(X_train.shape, X_test.shape, y_train.shape, y_test.shape)"
   ]
  },
  {
   "cell_type": "code",
   "execution_count": 74,
   "metadata": {},
   "outputs": [
    {
     "data": {
      "text/plain": [
       "RandomForestClassifier(max_depth=30, min_samples_split=5, n_estimators=1600)"
      ]
     },
     "execution_count": 74,
     "metadata": {},
     "output_type": "execute_result"
    }
   ],
   "source": [
    "modelone = RandomForestClassifier(n_estimators=1600,max_depth = 30, min_samples_leaf = 1, min_samples_split = 5)\n",
    "modelone.fit(X_train, y_train)"
   ]
  },
  {
   "cell_type": "code",
   "execution_count": 75,
   "metadata": {},
   "outputs": [],
   "source": [
    "## make predictions\n",
    "yhat_one = modelone.predict(X_test)"
   ]
  },
  {
   "cell_type": "code",
   "execution_count": 76,
   "metadata": {},
   "outputs": [
    {
     "name": "stdout",
     "output_type": "stream",
     "text": [
      "Accuracy: 0.570\n"
     ]
    }
   ],
   "source": [
    "acc = accuracy_score(y_test, yhat_one)\n",
    "print('Accuracy: %.3f' % acc)"
   ]
  },
  {
   "cell_type": "code",
   "execution_count": 77,
   "metadata": {},
   "outputs": [
    {
     "data": {
      "text/plain": [
       "<BarContainer object of 48 artists>"
      ]
     },
     "execution_count": 77,
     "metadata": {},
     "output_type": "execute_result"
    },
    {
     "data": {
      "image/png": "[encoded data removed]",
      "text/plain": [
       "<Figure size 720x720 with 1 Axes>"
      ]
     },
     "metadata": {
      "needs_background": "light"
     },
     "output_type": "display_data"
    }
   ],
   "source": [
    "model_features=modelone.feature_importances_.argsort()\n",
    "plt.figure(figsize=(10,10))\n",
    "plt.barh(X.columns.values[model_features],modelone.feature_importances_[model_features])"
   ]
  },
  {
   "cell_type": "markdown",
   "metadata": {},
   "source": [
    "## Add Column Back to Dataset that is Boolean: Either They Did or Did Not Recidivate. Use that as Target Variable."
   ]
  },
  {
   "cell_type": "code",
   "execution_count": 88,
   "metadata": {},
   "outputs": [],
   "source": [
    "data_two = pd.read_csv('Training_Data_Encoded_v2.csv')"
   ]
  },
  {
   "cell_type": "code",
   "execution_count": 89,
   "metadata": {},
   "outputs": [],
   "source": [
    "##data = data.replace(to_replace= np.nan, value = 0)\n",
    "data_two = data_two.fillna(0)"
   ]
  },
  {
   "cell_type": "code",
   "execution_count": 90,
   "metadata": {},
   "outputs": [],
   "source": [
    "def recidivate_or_not (row):\n",
    "    if row['Recidivism_Within_3years_Combined'] == 0:\n",
    "        return 0\n",
    "    return 1"
   ]
  },
  {
   "cell_type": "code",
   "execution_count": 91,
   "metadata": {},
   "outputs": [],
   "source": [
    "data_two['Recidivate_or_Not'] = data_two.apply(lambda row: recidivate_or_not(row),axis=1)"
   ]
  },
  {
   "cell_type": "code",
   "execution_count": 92,
   "metadata": {},
   "outputs": [
    {
     "data": {
      "text/html": [
       "<div>\n",
       "<style scoped>\n",
       "    .dataframe tbody tr th:only-of-type {\n",
       "        vertical-align: middle;\n",
       "    }\n",
       "\n",
       "    .dataframe tbody tr th {\n",
       "        vertical-align: top;\n",
       "    }\n",
       "\n",
       "    .dataframe thead th {\n",
       "        text-align: right;\n",
       "    }\n",
       "</style>\n",
       "<table border=\"1\" class=\"dataframe\">\n",
       "  <thead>\n",
       "    <tr style=\"text-align: right;\">\n",
       "      <th></th>\n",
       "      <th>Unnamed: 0</th>\n",
       "      <th>ID</th>\n",
       "      <th>Gender</th>\n",
       "      <th>Race</th>\n",
       "      <th>Age_at_Release</th>\n",
       "      <th>Residence_PUMA</th>\n",
       "      <th>Gang_Affiliated</th>\n",
       "      <th>Supervision_Risk_Score_First</th>\n",
       "      <th>Supervision_Level_First</th>\n",
       "      <th>Education_Level</th>\n",
       "      <th>...</th>\n",
       "      <th>Avg_Days_per_DrugTest</th>\n",
       "      <th>DrugTests_THC_Positive</th>\n",
       "      <th>DrugTests_Cocaine_Positive</th>\n",
       "      <th>DrugTests_Meth_Positive</th>\n",
       "      <th>DrugTests_Other_Positive</th>\n",
       "      <th>Percent_Days_Employed</th>\n",
       "      <th>Jobs_Per_Year</th>\n",
       "      <th>Employment_Exempt</th>\n",
       "      <th>Recidivism_Within_3years_Combined</th>\n",
       "      <th>Recidivate_or_Not</th>\n",
       "    </tr>\n",
       "  </thead>\n",
       "  <tbody>\n",
       "    <tr>\n",
       "      <th>0</th>\n",
       "      <td>0</td>\n",
       "      <td>1</td>\n",
       "      <td>1</td>\n",
       "      <td>0</td>\n",
       "      <td>5</td>\n",
       "      <td>16</td>\n",
       "      <td>0</td>\n",
       "      <td>3.0</td>\n",
       "      <td>2</td>\n",
       "      <td>0</td>\n",
       "      <td>...</td>\n",
       "      <td>612.000000</td>\n",
       "      <td>0.000000</td>\n",
       "      <td>0.0</td>\n",
       "      <td>0.000000</td>\n",
       "      <td>0.0</td>\n",
       "      <td>0.488562</td>\n",
       "      <td>0.447610</td>\n",
       "      <td>0</td>\n",
       "      <td>0</td>\n",
       "      <td>0</td>\n",
       "    </tr>\n",
       "    <tr>\n",
       "      <th>1</th>\n",
       "      <td>1</td>\n",
       "      <td>2</td>\n",
       "      <td>1</td>\n",
       "      <td>0</td>\n",
       "      <td>3</td>\n",
       "      <td>16</td>\n",
       "      <td>0</td>\n",
       "      <td>6.0</td>\n",
       "      <td>1</td>\n",
       "      <td>2</td>\n",
       "      <td>...</td>\n",
       "      <td>35.666667</td>\n",
       "      <td>0.000000</td>\n",
       "      <td>0.0</td>\n",
       "      <td>0.000000</td>\n",
       "      <td>0.0</td>\n",
       "      <td>0.425234</td>\n",
       "      <td>2.000000</td>\n",
       "      <td>0</td>\n",
       "      <td>1</td>\n",
       "      <td>1</td>\n",
       "    </tr>\n",
       "    <tr>\n",
       "      <th>2</th>\n",
       "      <td>2</td>\n",
       "      <td>3</td>\n",
       "      <td>1</td>\n",
       "      <td>0</td>\n",
       "      <td>6</td>\n",
       "      <td>24</td>\n",
       "      <td>0</td>\n",
       "      <td>7.0</td>\n",
       "      <td>0</td>\n",
       "      <td>0</td>\n",
       "      <td>...</td>\n",
       "      <td>93.666667</td>\n",
       "      <td>0.333333</td>\n",
       "      <td>0.0</td>\n",
       "      <td>0.166667</td>\n",
       "      <td>0.0</td>\n",
       "      <td>0.000000</td>\n",
       "      <td>0.000000</td>\n",
       "      <td>0</td>\n",
       "      <td>2</td>\n",
       "      <td>1</td>\n",
       "    </tr>\n",
       "    <tr>\n",
       "      <th>3</th>\n",
       "      <td>3</td>\n",
       "      <td>4</td>\n",
       "      <td>1</td>\n",
       "      <td>1</td>\n",
       "      <td>4</td>\n",
       "      <td>16</td>\n",
       "      <td>0</td>\n",
       "      <td>7.0</td>\n",
       "      <td>0</td>\n",
       "      <td>2</td>\n",
       "      <td>...</td>\n",
       "      <td>25.400000</td>\n",
       "      <td>0.000000</td>\n",
       "      <td>0.0</td>\n",
       "      <td>0.000000</td>\n",
       "      <td>0.0</td>\n",
       "      <td>1.000000</td>\n",
       "      <td>0.718996</td>\n",
       "      <td>0</td>\n",
       "      <td>0</td>\n",
       "      <td>0</td>\n",
       "    </tr>\n",
       "    <tr>\n",
       "      <th>4</th>\n",
       "      <td>4</td>\n",
       "      <td>5</td>\n",
       "      <td>1</td>\n",
       "      <td>1</td>\n",
       "      <td>3</td>\n",
       "      <td>16</td>\n",
       "      <td>0</td>\n",
       "      <td>4.0</td>\n",
       "      <td>1</td>\n",
       "      <td>2</td>\n",
       "      <td>...</td>\n",
       "      <td>23.117647</td>\n",
       "      <td>0.000000</td>\n",
       "      <td>0.0</td>\n",
       "      <td>0.058824</td>\n",
       "      <td>0.0</td>\n",
       "      <td>0.203562</td>\n",
       "      <td>0.929389</td>\n",
       "      <td>0</td>\n",
       "      <td>3</td>\n",
       "      <td>1</td>\n",
       "    </tr>\n",
       "  </tbody>\n",
       "</table>\n",
       "<p>5 rows × 52 columns</p>\n",
       "</div>"
      ],
      "text/plain": [
       "   Unnamed: 0  ID  Gender  Race  Age_at_Release  Residence_PUMA  \\\n",
       "0           0   1       1     0               5              16   \n",
       "1           1   2       1     0               3              16   \n",
       "2           2   3       1     0               6              24   \n",
       "3           3   4       1     1               4              16   \n",
       "4           4   5       1     1               3              16   \n",
       "\n",
       "   Gang_Affiliated  Supervision_Risk_Score_First  Supervision_Level_First  \\\n",
       "0                0                           3.0                        2   \n",
       "1                0                           6.0                        1   \n",
       "2                0                           7.0                        0   \n",
       "3                0                           7.0                        0   \n",
       "4                0                           4.0                        1   \n",
       "\n",
       "   Education_Level  ...  Avg_Days_per_DrugTest  DrugTests_THC_Positive  \\\n",
       "0                0  ...             612.000000                0.000000   \n",
       "1                2  ...              35.666667                0.000000   \n",
       "2                0  ...              93.666667                0.333333   \n",
       "3                2  ...              25.400000                0.000000   \n",
       "4                2  ...              23.117647                0.000000   \n",
       "\n",
       "   DrugTests_Cocaine_Positive  DrugTests_Meth_Positive  \\\n",
       "0                         0.0                 0.000000   \n",
       "1                         0.0                 0.000000   \n",
       "2                         0.0                 0.166667   \n",
       "3                         0.0                 0.000000   \n",
       "4                         0.0                 0.058824   \n",
       "\n",
       "   DrugTests_Other_Positive  Percent_Days_Employed  Jobs_Per_Year  \\\n",
       "0                       0.0               0.488562       0.447610   \n",
       "1                       0.0               0.425234       2.000000   \n",
       "2                       0.0               0.000000       0.000000   \n",
       "3                       0.0               1.000000       0.718996   \n",
       "4                       0.0               0.203562       0.929389   \n",
       "\n",
       "   Employment_Exempt  Recidivism_Within_3years_Combined  Recidivate_or_Not  \n",
       "0                  0                                  0                  0  \n",
       "1                  0                                  1                  1  \n",
       "2                  0                                  2                  1  \n",
       "3                  0                                  0                  0  \n",
       "4                  0                                  3                  1  \n",
       "\n",
       "[5 rows x 52 columns]"
      ]
     },
     "execution_count": 92,
     "metadata": {},
     "output_type": "execute_result"
    }
   ],
   "source": [
    "data_two.head(5)"
   ]
  },
  {
   "cell_type": "code",
   "execution_count": 93,
   "metadata": {},
   "outputs": [],
   "source": [
    "## Train and Test Split\n",
    "XX = data_two.drop(['Recidivism_Within_3years_Combined','Recidivate_or_Not','Unnamed: 0','ID'],axis=1)\n",
    "yy = data_two['Recidivate_or_Not']"
   ]
  },
  {
   "cell_type": "code",
   "execution_count": 94,
   "metadata": {},
   "outputs": [
    {
     "name": "stdout",
     "output_type": "stream",
     "text": [
      "(18028, 48) (18028,)\n"
     ]
    }
   ],
   "source": [
    "print(XX.shape, yy.shape)"
   ]
  },
  {
   "cell_type": "code",
   "execution_count": 95,
   "metadata": {},
   "outputs": [
    {
     "name": "stdout",
     "output_type": "stream",
     "text": [
      "(12078, 48) (5950, 48) (12078,) (5950,)\n"
     ]
    }
   ],
   "source": [
    "XX_train, XX_test, yy_train, yy_test = train_test_split(XX, yy, test_size = 0.33, random_state=1)\n",
    "print(XX_train.shape, XX_test.shape, yy_train.shape, yy_test.shape)"
   ]
  },
  {
   "cell_type": "code",
   "execution_count": 96,
   "metadata": {},
   "outputs": [
    {
     "data": {
      "text/plain": [
       "RandomForestClassifier(max_depth=30, min_samples_split=5, n_estimators=1600)"
      ]
     },
     "execution_count": 96,
     "metadata": {},
     "output_type": "execute_result"
    }
   ],
   "source": [
    "## fit the model\n",
    "\n",
    "\n",
    "model_two = RandomForestClassifier(n_estimators=1600,max_depth = 30, min_samples_leaf = 1, min_samples_split = 5)\n",
    "model_two.fit(XX_train, yy_train)"
   ]
  },
  {
   "cell_type": "code",
   "execution_count": 97,
   "metadata": {},
   "outputs": [],
   "source": [
    "## make predictions\n",
    "yhat_two = model_two.predict(XX_test)"
   ]
  },
  {
   "cell_type": "code",
   "execution_count": 98,
   "metadata": {},
   "outputs": [
    {
     "name": "stdout",
     "output_type": "stream",
     "text": [
      "Accuracy: 0.728\n"
     ]
    }
   ],
   "source": [
    "## evaluate predictions\n",
    "acc_two = accuracy_score(yy_test, yhat_two)\n",
    "print('Accuracy: %.3f' % acc_two)"
   ]
  },
  {
   "cell_type": "code",
   "execution_count": 100,
   "metadata": {},
   "outputs": [
    {
     "data": {
      "text/plain": [
       "<BarContainer object of 48 artists>"
      ]
     },
     "execution_count": 100,
     "metadata": {},
     "output_type": "execute_result"
    },
    {
     "data": {
      "image/png": "[encoded data removed]",
      "text/plain": [
       "<Figure size 720x720 with 1 Axes>"
      ]
     },
     "metadata": {
      "needs_background": "light"
     },
     "output_type": "display_data"
    }
   ],
   "source": [
    "model_features=model_two.feature_importances_.argsort()\n",
    "plt.figure(figsize=(10,10))\n",
    "plt.barh(XX.columns.values[model_features],model_two.feature_importances_[model_features])"
   ]
  },
  {
   "cell_type": "markdown",
   "metadata": {},
   "source": [
    "## Confusion Matrices"
   ]
  },
  {
   "cell_type": "code",
   "execution_count": 128,
   "metadata": {
    "scrolled": true
   },
   "outputs": [
    {
     "name": "stdout",
     "output_type": "stream",
     "text": [
      "[[2077    0   21  405]\n",
      " [ 401    0   12  188]\n",
      " [ 602    0   37  434]\n",
      " [ 482    0   11 1280]] [[1403 1100]\n",
      " [ 520 2927]]\n"
     ]
    }
   ],
   "source": [
    "##Model with Target Variable Containing 4 Options\n",
    "cm_one = confusion_matrix(y_test, yhat_one)\n",
    "\n",
    "##Model with Target Variable As Boolean\n",
    "cm_two = confusion_matrix(yy_test, yhat_two)\n",
    "\n",
    "print(cm_one, cm_two)"
   ]
  },
  {
   "cell_type": "code",
   "execution_count": 133,
   "metadata": {},
   "outputs": [
    {
     "data": {
      "text/plain": [
       "Text(0.5, 1.0, 'Confusion Matrix - RF Classifier with Categorical Target Variable')"
      ]
     },
     "execution_count": 133,
     "metadata": {},
     "output_type": "execute_result"
    },
    {
     "data": {
      "image/png": "[encoded data removed]",
      "text/plain": [
       "<Figure size 720x720 with 2 Axes>"
      ]
     },
     "metadata": {},
     "output_type": "display_data"
    }
   ],
   "source": [
    "##Heatmap for Confusion Matrix One\n",
    "\n",
    "##Get and reshape confusion matrix data\n",
    "matrix_one = cm_one\n",
    "matrix_one = matrix_one.astype('int') ##/ matrix_one.sum(axis=1)[:, np.newaxis]\n",
    "\n",
    "##Build the Plot\n",
    "plt.figure(figsize=(10,10))\n",
    "sns.set(font_scale=1.4)\n",
    "sns.heatmap(matrix_one, annot=True, cmap=plt.cm.Greens, linewidths=0.2, fmt='g')\n",
    "\n",
    "##Add Labels to the Plot\n",
    "class_names = ['Did Not Recidivate', 'Year 1', 'Year 2', 'Year 3']\n",
    "tick_marks = np.arange(len(class_names))\n",
    "tick_marks2 = tick_marks + 0.5\n",
    "tick_marks3 = tick_marks + 0.25\n",
    "plt.xticks(tick_marks2, class_names, rotation=0)\n",
    "plt.yticks(tick_marks2, class_names, rotation=0)\n",
    "plt.xlabel('Predicted Category')\n",
    "plt.ylabel('Actual Category')\n",
    "plt.title('Confusion Matrix - RF Classifier with Categorical Target Variable')"
   ]
  },
  {
   "cell_type": "code",
   "execution_count": 137,
   "metadata": {},
   "outputs": [
    {
     "data": {
      "text/plain": [
       "Text(0.5, 1.0, 'Confusion Matrix - RF Classifier with Boolean Target Variable')"
      ]
     },
     "execution_count": 137,
     "metadata": {},
     "output_type": "execute_result"
    },
    {
     "data": {
      "image/png": "[encoded data removed]",
      "text/plain": [
       "<Figure size 720x720 with 2 Axes>"
      ]
     },
     "metadata": {},
     "output_type": "display_data"
    }
   ],
   "source": [
    "##Heatmap for Confusion Matrix Two\n",
    "\n",
    "##Get a reshape confusion matrix data\n",
    "matrix_two = cm_two\n",
    "matrix_two = matrix_two.astype('float') ##/ matrix_two.sum(axis=1)[:, np.newaxis]\n",
    "\n",
    "##Build the Plot\n",
    "plt.figure(figsize=(10,10))\n",
    "sns.set(font_scale=1.4)\n",
    "sns.heatmap(matrix_two, annot=True,cmap=plt.cm.Reds, linewidths=0.2, fmt='g')\n",
    "\n",
    "##Add Labels to the Plot\n",
    "class_names = ['Did Not Recidivate', 'Recidivated']\n",
    "tick_marks = np.arange(len(class_names))\n",
    "tick_marks2 = tick_marks + 0.5\n",
    "plt.xticks(tick_marks2, class_names, rotation=0)\n",
    "plt.yticks(tick_marks2, class_names, rotation=0)\n",
    "plt.xlabel('Predicted Category')\n",
    "plt.ylabel('Actual Category')\n",
    "plt.title('Confusion Matrix - RF Classifier with Boolean Target Variable')"
   ]
  }
 ],
 "metadata": {
  "kernelspec": {
   "display_name": "Python 3",
   "language": "python",
   "name": "python3"
  },
  "language_info": {
   "codemirror_mode": {
    "name": "ipython",
    "version": 3
   },
   "file_extension": ".py",
   "mimetype": "text/x-python",
   "name": "python",
   "nbconvert_exporter": "python",
   "pygments_lexer": "ipython3",
   "version": "3.8.5"
  }
 },
 "nbformat": 4,
 "nbformat_minor": 4
}
