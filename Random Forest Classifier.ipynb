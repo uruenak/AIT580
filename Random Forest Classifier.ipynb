{
 "cells": [
  {
   "cell_type": "code",
   "execution_count": 59,
   "metadata": {},
   "outputs": [],
   "source": [
    "# Imports\n",
    "\n",
    "# pandas\n",
    "import pandas as pd\n",
    "from pandas import Series,DataFrame\n",
    "\n",
    "# numpy, matplotlib, seaborn\n",
    "import numpy as np\n",
    "import matplotlib.pyplot as plt\n",
    "import seaborn as sns\n",
    "\n",
    "# machine learning\n",
    "from sklearn.ensemble import RandomForestClassifier,GradientBoostingClassifier\n",
    "from sklearn.model_selection import train_test_split\n",
    "from sklearn.metrics import accuracy_score"
   ]
  },
  {
   "cell_type": "code",
   "execution_count": 5,
   "metadata": {},
   "outputs": [],
   "source": [
    "data = pd.read_csv('Training_Data_Encoded_v2.csv')"
   ]
  },
  {
   "cell_type": "code",
   "execution_count": 23,
   "metadata": {},
   "outputs": [
    {
     "data": {
      "text/plain": [
       "Unnamed: 0                                              0\n",
       "ID                                                      0\n",
       "Gender                                                  0\n",
       "Race                                                    0\n",
       "Age_at_Release                                          0\n",
       "Residence_PUMA                                          0\n",
       "Gang_Affiliated                                         0\n",
       "Supervision_Risk_Score_First                          330\n",
       "Supervision_Level_First                                 0\n",
       "Education_Level                                         0\n",
       "Dependents                                              0\n",
       "Prison_Offense                                          0\n",
       "Prison_Years                                            0\n",
       "Prior_Arrest_Episodes_Felony                            0\n",
       "Prior_Arrest_Episodes_Misd                              0\n",
       "Prior_Arrest_Episodes_Violent                           0\n",
       "Prior_Arrest_Episodes_Property                          0\n",
       "Prior_Arrest_Episodes_Drug                              0\n",
       "Prior_Arrest_Episodes_PPViolationCharges                0\n",
       "Prior_Arrest_Episodes_DVCharges                         0\n",
       "Prior_Arrest_Episodes_GunCharges                        0\n",
       "Prior_Conviction_Episodes_Felony                        0\n",
       "Prior_Conviction_Episodes_Misd                          0\n",
       "Prior_Conviction_Episodes_Viol                          0\n",
       "Prior_Conviction_Episodes_Prop                          0\n",
       "Prior_Conviction_Episodes_Drug                          0\n",
       "Prior_Conviction_Episodes_PPViolationCharges            0\n",
       "Prior_Conviction_Episodes_DomesticViolenceCharges       0\n",
       "Prior_Conviction_Episodes_GunCharges                    0\n",
       "Prior_Revocations_Parole                                0\n",
       "Prior_Revocations_Probation                             0\n",
       "Condition_MH_SA                                         0\n",
       "Condition_Cog_Ed                                        0\n",
       "Condition_Other                                         0\n",
       "Violations_ElectronicMonitoring                         0\n",
       "Violations_Instruction                                  0\n",
       "Violations_FailToReport                                 0\n",
       "Violations_MoveWithoutPermission                        0\n",
       "Delinquency_Reports                                     0\n",
       "Program_Attendances                                     0\n",
       "Program_UnexcusedAbsences                               0\n",
       "Residence_Changes                                       0\n",
       "Avg_Days_per_DrugTest                                4260\n",
       "DrugTests_THC_Positive                               3632\n",
       "DrugTests_Cocaine_Positive                           3632\n",
       "DrugTests_Meth_Positive                              3632\n",
       "DrugTests_Other_Positive                             3632\n",
       "Percent_Days_Employed                                 307\n",
       "Jobs_Per_Year                                         534\n",
       "Employment_Exempt                                       0\n",
       "Recidivism_Within_3years_Combined                       0\n",
       "split                                                   0\n",
       "dtype: int64"
      ]
     },
     "execution_count": 23,
     "metadata": {},
     "output_type": "execute_result"
    }
   ],
   "source": [
    "data.isnull().sum()"
   ]
  },
  {
   "cell_type": "code",
   "execution_count": 41,
   "metadata": {
    "scrolled": true
   },
   "outputs": [],
   "source": [
    "new_data = data.dropna(axis = 0, how = 'any')"
   ]
  },
  {
   "cell_type": "code",
   "execution_count": 42,
   "metadata": {},
   "outputs": [
    {
     "data": {
      "text/plain": [
       "Unnamed: 0                                           0\n",
       "ID                                                   0\n",
       "Gender                                               0\n",
       "Race                                                 0\n",
       "Age_at_Release                                       0\n",
       "Residence_PUMA                                       0\n",
       "Gang_Affiliated                                      0\n",
       "Supervision_Risk_Score_First                         0\n",
       "Supervision_Level_First                              0\n",
       "Education_Level                                      0\n",
       "Dependents                                           0\n",
       "Prison_Offense                                       0\n",
       "Prison_Years                                         0\n",
       "Prior_Arrest_Episodes_Felony                         0\n",
       "Prior_Arrest_Episodes_Misd                           0\n",
       "Prior_Arrest_Episodes_Violent                        0\n",
       "Prior_Arrest_Episodes_Property                       0\n",
       "Prior_Arrest_Episodes_Drug                           0\n",
       "Prior_Arrest_Episodes_PPViolationCharges             0\n",
       "Prior_Arrest_Episodes_DVCharges                      0\n",
       "Prior_Arrest_Episodes_GunCharges                     0\n",
       "Prior_Conviction_Episodes_Felony                     0\n",
       "Prior_Conviction_Episodes_Misd                       0\n",
       "Prior_Conviction_Episodes_Viol                       0\n",
       "Prior_Conviction_Episodes_Prop                       0\n",
       "Prior_Conviction_Episodes_Drug                       0\n",
       "Prior_Conviction_Episodes_PPViolationCharges         0\n",
       "Prior_Conviction_Episodes_DomesticViolenceCharges    0\n",
       "Prior_Conviction_Episodes_GunCharges                 0\n",
       "Prior_Revocations_Parole                             0\n",
       "Prior_Revocations_Probation                          0\n",
       "Condition_MH_SA                                      0\n",
       "Condition_Cog_Ed                                     0\n",
       "Condition_Other                                      0\n",
       "Violations_ElectronicMonitoring                      0\n",
       "Violations_Instruction                               0\n",
       "Violations_FailToReport                              0\n",
       "Violations_MoveWithoutPermission                     0\n",
       "Delinquency_Reports                                  0\n",
       "Program_Attendances                                  0\n",
       "Program_UnexcusedAbsences                            0\n",
       "Residence_Changes                                    0\n",
       "Avg_Days_per_DrugTest                                0\n",
       "DrugTests_THC_Positive                               0\n",
       "DrugTests_Cocaine_Positive                           0\n",
       "DrugTests_Meth_Positive                              0\n",
       "DrugTests_Other_Positive                             0\n",
       "Percent_Days_Employed                                0\n",
       "Jobs_Per_Year                                        0\n",
       "Employment_Exempt                                    0\n",
       "Recidivism_Within_3years_Combined                    0\n",
       "split                                                0\n",
       "dtype: int64"
      ]
     },
     "execution_count": 42,
     "metadata": {},
     "output_type": "execute_result"
    }
   ],
   "source": [
    "new_data.isnull().sum()"
   ]
  },
  {
   "cell_type": "code",
   "execution_count": 43,
   "metadata": {},
   "outputs": [
    {
     "name": "stdout",
     "output_type": "stream",
     "text": [
      "Old data frame length: 18028\n",
      "New data frame length: 13593\n",
      "Number of rows with at least 1 NA value:  4435\n"
     ]
    }
   ],
   "source": [
    "print(\"Old data frame length:\", len(data))\n",
    "print(\"New data frame length:\", len(new_data))\n",
    "print(\"Number of rows with at least 1 NA value: \", (len(data)-len(new_data)))"
   ]
  },
  {
   "cell_type": "code",
   "execution_count": 52,
   "metadata": {},
   "outputs": [],
   "source": [
    "## Train and Test Split\n",
    "X = new_data.drop(['Recidivism_Within_3years_Combined','Unnamed: 0','ID'],axis=1)\n",
    "y = new_data['Recidivism_Within_3years_Combined']"
   ]
  },
  {
   "cell_type": "code",
   "execution_count": 53,
   "metadata": {},
   "outputs": [
    {
     "name": "stdout",
     "output_type": "stream",
     "text": [
      "(13593, 49) (13593,)\n"
     ]
    }
   ],
   "source": [
    "print(X.shape, y.shape)"
   ]
  },
  {
   "cell_type": "code",
   "execution_count": 61,
   "metadata": {},
   "outputs": [
    {
     "name": "stdout",
     "output_type": "stream",
     "text": [
      "(9107, 49) (4486, 49) (9107,) (4486,)\n"
     ]
    }
   ],
   "source": [
    "X_train, X_test, y_train, y_test = train_test_split(X, y, test_size = 0.33, random_state=1)\n",
    "print(X_train.shape, X_test.shape, y_train.shape, y_test.shape)"
   ]
  },
  {
   "cell_type": "code",
   "execution_count": 62,
   "metadata": {},
   "outputs": [
    {
     "data": {
      "text/plain": [
       "RandomForestClassifier(random_state=1)"
      ]
     },
     "execution_count": 62,
     "metadata": {},
     "output_type": "execute_result"
    }
   ],
   "source": [
    "## fit the model\n",
    "model = RandomForestClassifier(random_state=1)\n",
    "model.fit(X_train, y_train)"
   ]
  },
  {
   "cell_type": "code",
   "execution_count": 63,
   "metadata": {},
   "outputs": [],
   "source": [
    "## make predictions\n",
    "yhat = model.predict(X_test)"
   ]
  },
  {
   "cell_type": "code",
   "execution_count": 64,
   "metadata": {},
   "outputs": [
    {
     "name": "stdout",
     "output_type": "stream",
     "text": [
      "Accuracy: 0.542\n"
     ]
    }
   ],
   "source": [
    "## evaluate predictions\n",
    "acc = accuracy_score(y_test, yhat)\n",
    "print('Accuracy: %.3f' % acc)"
   ]
  }
 ],
 "metadata": {
  "kernelspec": {
   "display_name": "Python 3",
   "language": "python",
   "name": "python3"
  },
  "language_info": {
   "codemirror_mode": {
    "name": "ipython",
    "version": 3
   },
   "file_extension": ".py",
   "mimetype": "text/x-python",
   "name": "python",
   "nbconvert_exporter": "python",
   "pygments_lexer": "ipython3",
   "version": "3.8.5"
  }
 },
 "nbformat": 4,
 "nbformat_minor": 4
}
